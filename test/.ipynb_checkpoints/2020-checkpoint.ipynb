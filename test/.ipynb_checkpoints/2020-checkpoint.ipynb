{
 "cells": [
  {
   "cell_type": "code",
   "execution_count": 2,
   "id": "6effc9d4",
   "metadata": {},
   "outputs": [
    {
     "data": {
      "text/plain": [
       "'https://www.boxofficemojo.com/weekend/by-year/2018/'"
      ]
     },
     "execution_count": 2,
     "metadata": {},
     "output_type": "execute_result"
    }
   ],
   "source": [
    "url2018 = \"https://www.boxofficemojo.com/weekend/by-year/2018/\"\n",
    "url2018"
   ]
  },
  {
   "cell_type": "code",
   "execution_count": 3,
   "id": "088f4300",
   "metadata": {},
   "outputs": [
    {
     "data": {
      "text/plain": [
       "[                                     Dates  Top 10 Gross   %± LW  \\\n",
       " 0   Dec 28-Jan 1, 2019New Year's long wknd  $254,547,234  +12.6%   \n",
       " 1                                Dec 28-30  $165,718,403   +1.5%   \n",
       " 2             Dec 21-25Christmas long wknd  $260,363,074  +10.1%   \n",
       " 3                                Dec 21-23  $163,297,800  +60.7%   \n",
       " 4                                Dec 14-16  $101,640,559  +37.6%   \n",
       " ..                                     ...           ...     ...   \n",
       " 57                               Jan 26-28  $102,483,376   -1.6%   \n",
       " 58                               Jan 19-21  $104,176,178  -19.4%   \n",
       " 59                               Jan 12-14  $129,325,213  -10.3%   \n",
       " 60                       Jan 12-15MLK wknd  $158,634,790   +7.4%   \n",
       " 61                                 Jan 5-7  $144,171,701  -16.8%   \n",
       " \n",
       "    Overall Gross %± LW.1  Releases                         #1 Release Genre  \\\n",
       " 0   $288,846,349    +14%        53                            Aquaman     -   \n",
       " 1   $188,210,389   +5.5%        78                            Aquaman     -   \n",
       " 2   $291,020,519  +12.1%        60                            Aquaman     -   \n",
       " 3   $178,360,577  +48.1%        76                            Aquaman     -   \n",
       " 4   $120,463,418  +40.4%       100  Spider-Man: Into the Spider-Verse     -   \n",
       " ..           ...     ...       ...                                ...   ...   \n",
       " 57  $142,985,855   +5.4%       104        Maze Runner: The Death Cure     -   \n",
       " 58  $135,628,208  -14.8%       103     Jumanji: Welcome to the Jungle     -   \n",
       " 59  $159,135,848   -3.9%        95     Jumanji: Welcome to the Jungle     -   \n",
       " 60  $195,812,771   +5.7%        76     Jumanji: Welcome to the Jungle     -   \n",
       " 61  $165,531,482  -14.7%        89     Jumanji: Welcome to the Jungle     -   \n",
       " \n",
       "    Budget Running Time  Week  Long Weekend  \n",
       " 0       -            -    52          True  \n",
       " 1       -            -    52         False  \n",
       " 2       -            -    51          True  \n",
       " 3       -            -    51         False  \n",
       " 4       -            -    50         False  \n",
       " ..    ...          ...   ...           ...  \n",
       " 57      -            -     4         False  \n",
       " 58      -            -     3         False  \n",
       " 59      -            -     2         False  \n",
       " 60      -            -     2          True  \n",
       " 61      -            -     1         False  \n",
       " \n",
       " [62 rows x 12 columns]]"
      ]
     },
     "execution_count": 3,
     "metadata": {},
     "output_type": "execute_result"
    }
   ],
   "source": [
    "import pandas as pd\n",
    "df = pd.read_html(url2018, header = 0)\n",
    "df"
   ]
  },
  {
   "cell_type": "code",
   "execution_count": 4,
   "id": "0c2ce932",
   "metadata": {},
   "outputs": [
    {
     "data": {
      "text/html": [
       "<div>\n",
       "<style scoped>\n",
       "    .dataframe tbody tr th:only-of-type {\n",
       "        vertical-align: middle;\n",
       "    }\n",
       "\n",
       "    .dataframe tbody tr th {\n",
       "        vertical-align: top;\n",
       "    }\n",
       "\n",
       "    .dataframe thead th {\n",
       "        text-align: right;\n",
       "    }\n",
       "</style>\n",
       "<table border=\"1\" class=\"dataframe\">\n",
       "  <thead>\n",
       "    <tr style=\"text-align: right;\">\n",
       "      <th></th>\n",
       "      <th>Dates</th>\n",
       "      <th>Top 10 Gross</th>\n",
       "      <th>%± LW</th>\n",
       "      <th>Overall Gross</th>\n",
       "      <th>%± LW.1</th>\n",
       "      <th>Releases</th>\n",
       "      <th>#1 Release</th>\n",
       "      <th>Genre</th>\n",
       "      <th>Budget</th>\n",
       "      <th>Running Time</th>\n",
       "      <th>Week</th>\n",
       "      <th>Long Weekend</th>\n",
       "    </tr>\n",
       "  </thead>\n",
       "  <tbody>\n",
       "    <tr>\n",
       "      <th>0</th>\n",
       "      <td>Dec 28-Jan 1, 2019New Year's long wknd</td>\n",
       "      <td>$254,547,234</td>\n",
       "      <td>+12.6%</td>\n",
       "      <td>$288,846,349</td>\n",
       "      <td>+14%</td>\n",
       "      <td>53</td>\n",
       "      <td>Aquaman</td>\n",
       "      <td>-</td>\n",
       "      <td>-</td>\n",
       "      <td>-</td>\n",
       "      <td>52</td>\n",
       "      <td>True</td>\n",
       "    </tr>\n",
       "    <tr>\n",
       "      <th>1</th>\n",
       "      <td>Dec 28-30</td>\n",
       "      <td>$165,718,403</td>\n",
       "      <td>+1.5%</td>\n",
       "      <td>$188,210,389</td>\n",
       "      <td>+5.5%</td>\n",
       "      <td>78</td>\n",
       "      <td>Aquaman</td>\n",
       "      <td>-</td>\n",
       "      <td>-</td>\n",
       "      <td>-</td>\n",
       "      <td>52</td>\n",
       "      <td>False</td>\n",
       "    </tr>\n",
       "    <tr>\n",
       "      <th>2</th>\n",
       "      <td>Dec 21-25Christmas long wknd</td>\n",
       "      <td>$260,363,074</td>\n",
       "      <td>+10.1%</td>\n",
       "      <td>$291,020,519</td>\n",
       "      <td>+12.1%</td>\n",
       "      <td>60</td>\n",
       "      <td>Aquaman</td>\n",
       "      <td>-</td>\n",
       "      <td>-</td>\n",
       "      <td>-</td>\n",
       "      <td>51</td>\n",
       "      <td>True</td>\n",
       "    </tr>\n",
       "    <tr>\n",
       "      <th>3</th>\n",
       "      <td>Dec 21-23</td>\n",
       "      <td>$163,297,800</td>\n",
       "      <td>+60.7%</td>\n",
       "      <td>$178,360,577</td>\n",
       "      <td>+48.1%</td>\n",
       "      <td>76</td>\n",
       "      <td>Aquaman</td>\n",
       "      <td>-</td>\n",
       "      <td>-</td>\n",
       "      <td>-</td>\n",
       "      <td>51</td>\n",
       "      <td>False</td>\n",
       "    </tr>\n",
       "    <tr>\n",
       "      <th>4</th>\n",
       "      <td>Dec 14-16</td>\n",
       "      <td>$101,640,559</td>\n",
       "      <td>+37.6%</td>\n",
       "      <td>$120,463,418</td>\n",
       "      <td>+40.4%</td>\n",
       "      <td>100</td>\n",
       "      <td>Spider-Man: Into the Spider-Verse</td>\n",
       "      <td>-</td>\n",
       "      <td>-</td>\n",
       "      <td>-</td>\n",
       "      <td>50</td>\n",
       "      <td>False</td>\n",
       "    </tr>\n",
       "    <tr>\n",
       "      <th>...</th>\n",
       "      <td>...</td>\n",
       "      <td>...</td>\n",
       "      <td>...</td>\n",
       "      <td>...</td>\n",
       "      <td>...</td>\n",
       "      <td>...</td>\n",
       "      <td>...</td>\n",
       "      <td>...</td>\n",
       "      <td>...</td>\n",
       "      <td>...</td>\n",
       "      <td>...</td>\n",
       "      <td>...</td>\n",
       "    </tr>\n",
       "    <tr>\n",
       "      <th>57</th>\n",
       "      <td>Jan 26-28</td>\n",
       "      <td>$102,483,376</td>\n",
       "      <td>-1.6%</td>\n",
       "      <td>$142,985,855</td>\n",
       "      <td>+5.4%</td>\n",
       "      <td>104</td>\n",
       "      <td>Maze Runner: The Death Cure</td>\n",
       "      <td>-</td>\n",
       "      <td>-</td>\n",
       "      <td>-</td>\n",
       "      <td>4</td>\n",
       "      <td>False</td>\n",
       "    </tr>\n",
       "    <tr>\n",
       "      <th>58</th>\n",
       "      <td>Jan 19-21</td>\n",
       "      <td>$104,176,178</td>\n",
       "      <td>-19.4%</td>\n",
       "      <td>$135,628,208</td>\n",
       "      <td>-14.8%</td>\n",
       "      <td>103</td>\n",
       "      <td>Jumanji: Welcome to the Jungle</td>\n",
       "      <td>-</td>\n",
       "      <td>-</td>\n",
       "      <td>-</td>\n",
       "      <td>3</td>\n",
       "      <td>False</td>\n",
       "    </tr>\n",
       "    <tr>\n",
       "      <th>59</th>\n",
       "      <td>Jan 12-14</td>\n",
       "      <td>$129,325,213</td>\n",
       "      <td>-10.3%</td>\n",
       "      <td>$159,135,848</td>\n",
       "      <td>-3.9%</td>\n",
       "      <td>95</td>\n",
       "      <td>Jumanji: Welcome to the Jungle</td>\n",
       "      <td>-</td>\n",
       "      <td>-</td>\n",
       "      <td>-</td>\n",
       "      <td>2</td>\n",
       "      <td>False</td>\n",
       "    </tr>\n",
       "    <tr>\n",
       "      <th>60</th>\n",
       "      <td>Jan 12-15MLK wknd</td>\n",
       "      <td>$158,634,790</td>\n",
       "      <td>+7.4%</td>\n",
       "      <td>$195,812,771</td>\n",
       "      <td>+5.7%</td>\n",
       "      <td>76</td>\n",
       "      <td>Jumanji: Welcome to the Jungle</td>\n",
       "      <td>-</td>\n",
       "      <td>-</td>\n",
       "      <td>-</td>\n",
       "      <td>2</td>\n",
       "      <td>True</td>\n",
       "    </tr>\n",
       "    <tr>\n",
       "      <th>61</th>\n",
       "      <td>Jan 5-7</td>\n",
       "      <td>$144,171,701</td>\n",
       "      <td>-16.8%</td>\n",
       "      <td>$165,531,482</td>\n",
       "      <td>-14.7%</td>\n",
       "      <td>89</td>\n",
       "      <td>Jumanji: Welcome to the Jungle</td>\n",
       "      <td>-</td>\n",
       "      <td>-</td>\n",
       "      <td>-</td>\n",
       "      <td>1</td>\n",
       "      <td>False</td>\n",
       "    </tr>\n",
       "  </tbody>\n",
       "</table>\n",
       "<p>62 rows × 12 columns</p>\n",
       "</div>"
      ],
      "text/plain": [
       "                                     Dates  Top 10 Gross   %± LW  \\\n",
       "0   Dec 28-Jan 1, 2019New Year's long wknd  $254,547,234  +12.6%   \n",
       "1                                Dec 28-30  $165,718,403   +1.5%   \n",
       "2             Dec 21-25Christmas long wknd  $260,363,074  +10.1%   \n",
       "3                                Dec 21-23  $163,297,800  +60.7%   \n",
       "4                                Dec 14-16  $101,640,559  +37.6%   \n",
       "..                                     ...           ...     ...   \n",
       "57                               Jan 26-28  $102,483,376   -1.6%   \n",
       "58                               Jan 19-21  $104,176,178  -19.4%   \n",
       "59                               Jan 12-14  $129,325,213  -10.3%   \n",
       "60                       Jan 12-15MLK wknd  $158,634,790   +7.4%   \n",
       "61                                 Jan 5-7  $144,171,701  -16.8%   \n",
       "\n",
       "   Overall Gross %± LW.1  Releases                         #1 Release Genre  \\\n",
       "0   $288,846,349    +14%        53                            Aquaman     -   \n",
       "1   $188,210,389   +5.5%        78                            Aquaman     -   \n",
       "2   $291,020,519  +12.1%        60                            Aquaman     -   \n",
       "3   $178,360,577  +48.1%        76                            Aquaman     -   \n",
       "4   $120,463,418  +40.4%       100  Spider-Man: Into the Spider-Verse     -   \n",
       "..           ...     ...       ...                                ...   ...   \n",
       "57  $142,985,855   +5.4%       104        Maze Runner: The Death Cure     -   \n",
       "58  $135,628,208  -14.8%       103     Jumanji: Welcome to the Jungle     -   \n",
       "59  $159,135,848   -3.9%        95     Jumanji: Welcome to the Jungle     -   \n",
       "60  $195,812,771   +5.7%        76     Jumanji: Welcome to the Jungle     -   \n",
       "61  $165,531,482  -14.7%        89     Jumanji: Welcome to the Jungle     -   \n",
       "\n",
       "   Budget Running Time  Week  Long Weekend  \n",
       "0       -            -    52          True  \n",
       "1       -            -    52         False  \n",
       "2       -            -    51          True  \n",
       "3       -            -    51         False  \n",
       "4       -            -    50         False  \n",
       "..    ...          ...   ...           ...  \n",
       "57      -            -     4         False  \n",
       "58      -            -     3         False  \n",
       "59      -            -     2         False  \n",
       "60      -            -     2          True  \n",
       "61      -            -     1         False  \n",
       "\n",
       "[62 rows x 12 columns]"
      ]
     },
     "execution_count": 4,
     "metadata": {},
     "output_type": "execute_result"
    }
   ],
   "source": [
    "df2018 = df[0]\n",
    "df[0]"
   ]
  },
  {
   "cell_type": "code",
   "execution_count": 5,
   "id": "dccf2b59",
   "metadata": {},
   "outputs": [],
   "source": [
    "import seaborn as sns"
   ]
  },
  {
   "cell_type": "code",
   "execution_count": 6,
   "id": "ff91c2c5",
   "metadata": {},
   "outputs": [
    {
     "data": {
      "text/plain": [
       "<AxesSubplot:xlabel='Week', ylabel='Releases'>"
      ]
     },
     "execution_count": 6,
     "metadata": {},
     "output_type": "execute_result"
    },
    {
     "data": {
      "image/png": "[encoded data removed]",
      "text/plain": [
       "<Figure size 640x480 with 1 Axes>"
      ]
     },
     "metadata": {},
     "output_type": "display_data"
    }
   ],
   "source": [
    "sns.lineplot(data = df2018, x = 'Week', y = 'Releases')"
   ]
  },
  {
   "cell_type": "code",
   "execution_count": 7,
   "id": "a5495ddf",
   "metadata": {},
   "outputs": [
    {
     "name": "stderr",
     "output_type": "stream",
     "text": [
      "C:\\Users\\shash\\AppData\\Local\\Temp\\ipykernel_6348\\1279054945.py:1: UserWarning: \n",
      "\n",
      "`distplot` is a deprecated function and will be removed in seaborn v0.14.0.\n",
      "\n",
      "Please adapt your code to use either `displot` (a figure-level function with\n",
      "similar flexibility) or `histplot` (an axes-level function for histograms).\n",
      "\n",
      "For a guide to updating your code to use the new functions, please see\n",
      "https://gist.github.com/mwaskom/de44147ed2974457ad6372750bbe5751\n",
      "\n",
      "  sns.distplot(df2018.Releases,\n"
     ]
    },
    {
     "data": {
      "text/plain": [
       "<AxesSubplot:xlabel='Releases'>"
      ]
     },
     "execution_count": 7,
     "metadata": {},
     "output_type": "execute_result"
    },
    {
     "data": {
      "image/png": "[encoded data removed]",
      "text/plain": [
       "<Figure size 640x480 with 1 Axes>"
      ]
     },
     "metadata": {},
     "output_type": "display_data"
    }
   ],
   "source": [
    "sns.distplot(df2018.Releases, \n",
    "             kde=False,\n",
    "             hist_kws=dict(edgecolor=\"black\", linewidth=2))"
   ]
  },
  {
   "cell_type": "code",
   "execution_count": 8,
   "id": "2c864aaf",
   "metadata": {},
   "outputs": [
    {
     "name": "stderr",
     "output_type": "stream",
     "text": [
      "C:\\Users\\shash\\AppData\\Local\\Temp\\ipykernel_6348\\3036961610.py:1: UserWarning: \n",
      "\n",
      "`distplot` is a deprecated function and will be removed in seaborn v0.14.0.\n",
      "\n",
      "Please adapt your code to use either `displot` (a figure-level function with\n",
      "similar flexibility) or `histplot` (an axes-level function for histograms).\n",
      "\n",
      "For a guide to updating your code to use the new functions, please see\n",
      "https://gist.github.com/mwaskom/de44147ed2974457ad6372750bbe5751\n",
      "\n",
      "  sns.distplot(df2018.Releases,\n"
     ]
    },
    {
     "data": {
      "text/plain": [
       "<AxesSubplot:xlabel='Releases'>"
      ]
     },
     "execution_count": 8,
     "metadata": {},
     "output_type": "execute_result"
    },
    {
     "data": {
      "image/png": "[encoded data removed]",
      "text/plain": [
       "<Figure size 640x480 with 1 Axes>"
      ]
     },
     "metadata": {},
     "output_type": "display_data"
    }
   ],
   "source": [
    "sns.distplot(df2018.Releases,\n",
    "             kde=False,\n",
    "             hist_kws=dict(edgecolor=\"black\", linewidth=2),\n",
    "             color='#00BFC4')"
   ]
  }
 ],
 "metadata": {
  "kernelspec": {
   "display_name": "Python 3 (ipykernel)",
   "language": "python",
   "name": "python3"
  },
  "language_info": {
   "codemirror_mode": {
    "name": "ipython",
    "version": 3
   },
   "file_extension": ".py",
   "mimetype": "text/x-python",
   "name": "python",
   "nbconvert_exporter": "python",
   "pygments_lexer": "ipython3",
   "version": "3.9.13"
  }
 },
 "nbformat": 4,
 "nbformat_minor": 5
}
