{
 "cells": [
  {
   "cell_type": "markdown",
   "metadata": {
    "id": "5WNm0Jm7Sg_B"
   },
   "source": [
    "# **Using pandas read_html to Web Scrape Data for Data Science** \n",
    "\n",
    "Tarun Badarvada\n",
    "\n",
    "<i>[Data Professor YouTube channel](http://youtube.com/dataprofessor), http://youtube.com/dataprofessor </i>\n",
    "\n",
    "In this Jupyter notebook, I will be showing you how to easily web scrape data using pandas read_html() function for your data science project. We will be web scraping BoxOfficeMojo data and perform a quick data exploration."
   ]
  },
  {
   "cell_type": "markdown",
   "metadata": {
    "id": "jsGSzqADSa0o"
   },
   "source": [
    "## **URL to the webpage \"Box Offce Data from Box Office Mojo\"**"
   ]
  },
  {
   "cell_type": "markdown",
   "metadata": {
    "id": "-AQZU0n4StVq"
   },
   "source": [
    "### Method 1\n",
    "\n",
    "We could modularize the URL and year strings of text that may be useful for programmatic access (in the subsequent code cell)."
   ]
  },
  {
   "cell_type": "code",
   "execution_count": 29,
   "metadata": {
    "colab": {
     "base_uri": "https://localhost:8080/",
     "height": 35
    },
    "id": "pGkHgtANQ4b2",
    "outputId": "4bd11ea1-f2cf-4f7b-8f5d-9539faab4635"
   },
   "outputs": [
    {
     "data": {
      "text/plain": [
       "'https://www.boxofficemojo.com/weekend/by-year/2016/'"
      ]
     },
     "execution_count": 29,
     "metadata": {},
     "output_type": "execute_result"
    }
   ],
   "source": [
    "# The Building Blocks\n",
    "url = 'https://www.boxofficemojo.com/weekend/by-year/2016/'\n",
    "\n",
    "# Combining the URL + year strings together\n",
    "url"
   ]
  },
  {
   "cell_type": "markdown",
   "metadata": {
    "id": "fhVY2xJJS0FU"
   },
   "source": [
    "## **Read HTML webpage into pandas**"
   ]
  },
  {
   "cell_type": "code",
   "execution_count": 30,
   "metadata": {
    "id": "yE_EfE-gPW1a"
   },
   "outputs": [],
   "source": [
    "import pandas as pd"
   ]
  },
  {
   "cell_type": "markdown",
   "metadata": {
    "id": "Sk1EUVeFUXPq"
   },
   "source": [
    "### Using pd.read_html() function to read HTML webpage"
   ]
  },
  {
   "cell_type": "code",
   "execution_count": 31,
   "metadata": {
    "colab": {
     "base_uri": "https://localhost:8080/"
    },
    "id": "4sLS78K-S-r2",
    "outputId": "d88574ef-82a1-4916-81b4-34285b52cd0a"
   },
   "outputs": [
    {
     "data": {
      "text/plain": [
       "[                                     Dates  Top 10 Gross    %± LW  \\\n",
       " 0   Dec 30-Jan 2, 2017New Year's long wknd  $220,396,876    -7.3%   \n",
       " 1                       Dec 30-Jan 1, 2017  $166,381,697    +0.8%   \n",
       " 2             Dec 23-26Christmas long wknd  $250,611,546   +47.7%   \n",
       " 3                                Dec 23-25  $165,020,197   -18.9%   \n",
       " 4                                Dec 16-18  $203,485,726  +184.3%   \n",
       " ..                                     ...           ...      ...   \n",
       " 59                               Jan 22-24   $95,736,903   -34.2%   \n",
       " 60                       Jan 15-18MLK wknd  $175,297,289   -20.6%   \n",
       " 61                               Jan 15-17  $145,502,232    +1.8%   \n",
       " 62                                Jan 8-10  $142,912,699     -28%   \n",
       " 63                                 Jan 1-3  $198,537,624   -27.3%   \n",
       " \n",
       "    Overall Gross  %± LW.1  Releases  \\\n",
       " 0   $246,770,071   -11.1%        68   \n",
       " 1   $186,656,052    +2.9%        81   \n",
       " 2   $274,763,402   +34.1%        67   \n",
       " 3   $181,350,322   -14.3%        82   \n",
       " 4   $211,583,035  +152.7%        99   \n",
       " ..           ...      ...       ...   \n",
       " 59  $113,596,503   -31.6%        87   \n",
       " 60  $200,759,295     -20%        57   \n",
       " 61  $166,004,623    +4.2%        86   \n",
       " 62  $159,323,600   -27.4%        91   \n",
       " 63  $219,510,014     -26%        82   \n",
       " \n",
       "                                     #1 Release Genre Budget Running Time  \\\n",
       " 0                 Rogue One: A Star Wars Story     -      -            -   \n",
       " 1                 Rogue One: A Star Wars Story     -      -            -   \n",
       " 2                 Rogue One: A Star Wars Story     -      -            -   \n",
       " 3                 Rogue One: A Star Wars Story     -      -            -   \n",
       " 4                 Rogue One: A Star Wars Story     -      -            -   \n",
       " ..                                         ...   ...    ...          ...   \n",
       " 59                                The Revenant     -      -            -   \n",
       " 60                                Ride Along 2     -      -            -   \n",
       " 61                                Ride Along 2     -      -            -   \n",
       " 62  Star Wars: Episode VII - The Force Awakens     -      -            -   \n",
       " 63  Star Wars: Episode VII - The Force Awakens     -      -            -   \n",
       " \n",
       "     Week  Long Weekend  \n",
       " 0     53          True  \n",
       " 1     53         False  \n",
       " 2     52          True  \n",
       " 3     52         False  \n",
       " 4     51         False  \n",
       " ..   ...           ...  \n",
       " 59     4         False  \n",
       " 60     3          True  \n",
       " 61     3         False  \n",
       " 62     2         False  \n",
       " 63     1         False  \n",
       " \n",
       " [64 rows x 12 columns]]"
      ]
     },
     "execution_count": 31,
     "metadata": {},
     "output_type": "execute_result"
    }
   ],
   "source": [
    "df = pd.read_html(url, header = 0)\n",
    "df"
   ]
  },
  {
   "cell_type": "markdown",
   "metadata": {
    "id": "iVtWB7zuUWIp"
   },
   "source": [
    "### How many tables are there in the webpage?"
   ]
  },
  {
   "cell_type": "code",
   "execution_count": 32,
   "metadata": {
    "colab": {
     "base_uri": "https://localhost:8080/"
    },
    "id": "BdIXrthuTApH",
    "outputId": "079ba129-31eb-4887-da83-9ab3dbf16c45"
   },
   "outputs": [
    {
     "data": {
      "text/plain": [
       "1"
      ]
     },
     "execution_count": 32,
     "metadata": {},
     "output_type": "execute_result"
    }
   ],
   "source": [
    "len(df)"
   ]
  },
  {
   "cell_type": "markdown",
   "metadata": {
    "id": "glCMVlkWU6ik"
   },
   "source": [
    "### Select the first table"
   ]
  },
  {
   "cell_type": "code",
   "execution_count": 42,
   "metadata": {
    "colab": {
     "base_uri": "https://localhost:8080/",
     "height": 1000
    },
    "id": "Pv0NHbFeTrEp",
    "outputId": "ea4eaff5-93a5-4743-fbee-6a9709622b58",
    "scrolled": true
   },
   "outputs": [
    {
     "data": {
      "text/html": [
       "<div>\n",
       "<style scoped>\n",
       "    .dataframe tbody tr th:only-of-type {\n",
       "        vertical-align: middle;\n",
       "    }\n",
       "\n",
       "    .dataframe tbody tr th {\n",
       "        vertical-align: top;\n",
       "    }\n",
       "\n",
       "    .dataframe thead th {\n",
       "        text-align: right;\n",
       "    }\n",
       "</style>\n",
       "<table border=\"1\" class=\"dataframe\">\n",
       "  <thead>\n",
       "    <tr style=\"text-align: right;\">\n",
       "      <th></th>\n",
       "      <th>Dates</th>\n",
       "      <th>Top 10 Gross</th>\n",
       "      <th>%± LW</th>\n",
       "      <th>Overall Gross</th>\n",
       "      <th>%± LW.1</th>\n",
       "      <th>Releases</th>\n",
       "      <th>#1 Release</th>\n",
       "      <th>Week</th>\n",
       "      <th>Long Weekend</th>\n",
       "    </tr>\n",
       "  </thead>\n",
       "  <tbody>\n",
       "    <tr>\n",
       "      <th>0</th>\n",
       "      <td>Dec 30-Jan 2, 2017New Year's long wknd</td>\n",
       "      <td>220396876</td>\n",
       "      <td>-7.3%</td>\n",
       "      <td>$246,770,071</td>\n",
       "      <td>-11.1%</td>\n",
       "      <td>68</td>\n",
       "      <td>Rogue One: A Star Wars Story</td>\n",
       "      <td>53</td>\n",
       "      <td>True</td>\n",
       "    </tr>\n",
       "    <tr>\n",
       "      <th>1</th>\n",
       "      <td>Dec 30-Jan 1, 2017</td>\n",
       "      <td>166381697</td>\n",
       "      <td>+0.8%</td>\n",
       "      <td>$186,656,052</td>\n",
       "      <td>+2.9%</td>\n",
       "      <td>81</td>\n",
       "      <td>Rogue One: A Star Wars Story</td>\n",
       "      <td>53</td>\n",
       "      <td>False</td>\n",
       "    </tr>\n",
       "    <tr>\n",
       "      <th>2</th>\n",
       "      <td>Dec 23-26Christmas long wknd</td>\n",
       "      <td>250611546</td>\n",
       "      <td>+47.7%</td>\n",
       "      <td>$274,763,402</td>\n",
       "      <td>+34.1%</td>\n",
       "      <td>67</td>\n",
       "      <td>Rogue One: A Star Wars Story</td>\n",
       "      <td>52</td>\n",
       "      <td>True</td>\n",
       "    </tr>\n",
       "    <tr>\n",
       "      <th>3</th>\n",
       "      <td>Dec 23-25</td>\n",
       "      <td>165020197</td>\n",
       "      <td>-18.9%</td>\n",
       "      <td>$181,350,322</td>\n",
       "      <td>-14.3%</td>\n",
       "      <td>82</td>\n",
       "      <td>Rogue One: A Star Wars Story</td>\n",
       "      <td>52</td>\n",
       "      <td>False</td>\n",
       "    </tr>\n",
       "    <tr>\n",
       "      <th>4</th>\n",
       "      <td>Dec 16-18</td>\n",
       "      <td>203485726</td>\n",
       "      <td>+184.3%</td>\n",
       "      <td>$211,583,035</td>\n",
       "      <td>+152.7%</td>\n",
       "      <td>99</td>\n",
       "      <td>Rogue One: A Star Wars Story</td>\n",
       "      <td>51</td>\n",
       "      <td>False</td>\n",
       "    </tr>\n",
       "    <tr>\n",
       "      <th>...</th>\n",
       "      <td>...</td>\n",
       "      <td>...</td>\n",
       "      <td>...</td>\n",
       "      <td>...</td>\n",
       "      <td>...</td>\n",
       "      <td>...</td>\n",
       "      <td>...</td>\n",
       "      <td>...</td>\n",
       "      <td>...</td>\n",
       "    </tr>\n",
       "    <tr>\n",
       "      <th>59</th>\n",
       "      <td>Jan 22-24</td>\n",
       "      <td>95736903</td>\n",
       "      <td>-34.2%</td>\n",
       "      <td>$113,596,503</td>\n",
       "      <td>-31.6%</td>\n",
       "      <td>87</td>\n",
       "      <td>The Revenant</td>\n",
       "      <td>4</td>\n",
       "      <td>False</td>\n",
       "    </tr>\n",
       "    <tr>\n",
       "      <th>60</th>\n",
       "      <td>Jan 15-18MLK wknd</td>\n",
       "      <td>175297289</td>\n",
       "      <td>-20.6%</td>\n",
       "      <td>$200,759,295</td>\n",
       "      <td>-20%</td>\n",
       "      <td>57</td>\n",
       "      <td>Ride Along 2</td>\n",
       "      <td>3</td>\n",
       "      <td>True</td>\n",
       "    </tr>\n",
       "    <tr>\n",
       "      <th>61</th>\n",
       "      <td>Jan 15-17</td>\n",
       "      <td>145502232</td>\n",
       "      <td>+1.8%</td>\n",
       "      <td>$166,004,623</td>\n",
       "      <td>+4.2%</td>\n",
       "      <td>86</td>\n",
       "      <td>Ride Along 2</td>\n",
       "      <td>3</td>\n",
       "      <td>False</td>\n",
       "    </tr>\n",
       "    <tr>\n",
       "      <th>62</th>\n",
       "      <td>Jan 8-10</td>\n",
       "      <td>142912699</td>\n",
       "      <td>-28%</td>\n",
       "      <td>$159,323,600</td>\n",
       "      <td>-27.4%</td>\n",
       "      <td>91</td>\n",
       "      <td>Star Wars: Episode VII - The Force Awakens</td>\n",
       "      <td>2</td>\n",
       "      <td>False</td>\n",
       "    </tr>\n",
       "    <tr>\n",
       "      <th>63</th>\n",
       "      <td>Jan 1-3</td>\n",
       "      <td>198537624</td>\n",
       "      <td>-27.3%</td>\n",
       "      <td>$219,510,014</td>\n",
       "      <td>-26%</td>\n",
       "      <td>82</td>\n",
       "      <td>Star Wars: Episode VII - The Force Awakens</td>\n",
       "      <td>1</td>\n",
       "      <td>False</td>\n",
       "    </tr>\n",
       "  </tbody>\n",
       "</table>\n",
       "<p>64 rows × 9 columns</p>\n",
       "</div>"
      ],
      "text/plain": [
       "                                     Dates  Top 10 Gross    %± LW  \\\n",
       "0   Dec 30-Jan 2, 2017New Year's long wknd     220396876    -7.3%   \n",
       "1                       Dec 30-Jan 1, 2017     166381697    +0.8%   \n",
       "2             Dec 23-26Christmas long wknd     250611546   +47.7%   \n",
       "3                                Dec 23-25     165020197   -18.9%   \n",
       "4                                Dec 16-18     203485726  +184.3%   \n",
       "..                                     ...           ...      ...   \n",
       "59                               Jan 22-24      95736903   -34.2%   \n",
       "60                       Jan 15-18MLK wknd     175297289   -20.6%   \n",
       "61                               Jan 15-17     145502232    +1.8%   \n",
       "62                                Jan 8-10     142912699     -28%   \n",
       "63                                 Jan 1-3     198537624   -27.3%   \n",
       "\n",
       "   Overall Gross  %± LW.1  Releases  \\\n",
       "0   $246,770,071   -11.1%        68   \n",
       "1   $186,656,052    +2.9%        81   \n",
       "2   $274,763,402   +34.1%        67   \n",
       "3   $181,350,322   -14.3%        82   \n",
       "4   $211,583,035  +152.7%        99   \n",
       "..           ...      ...       ...   \n",
       "59  $113,596,503   -31.6%        87   \n",
       "60  $200,759,295     -20%        57   \n",
       "61  $166,004,623    +4.2%        86   \n",
       "62  $159,323,600   -27.4%        91   \n",
       "63  $219,510,014     -26%        82   \n",
       "\n",
       "                                    #1 Release  Week  Long Weekend  \n",
       "0                 Rogue One: A Star Wars Story    53          True  \n",
       "1                 Rogue One: A Star Wars Story    53         False  \n",
       "2                 Rogue One: A Star Wars Story    52          True  \n",
       "3                 Rogue One: A Star Wars Story    52         False  \n",
       "4                 Rogue One: A Star Wars Story    51         False  \n",
       "..                                         ...   ...           ...  \n",
       "59                                The Revenant     4         False  \n",
       "60                                Ride Along 2     3          True  \n",
       "61                                Ride Along 2     3         False  \n",
       "62  Star Wars: Episode VII - The Force Awakens     2         False  \n",
       "63  Star Wars: Episode VII - The Force Awakens     1         False  \n",
       "\n",
       "[64 rows x 9 columns]"
      ]
     },
     "execution_count": 42,
     "metadata": {},
     "output_type": "execute_result"
    }
   ],
   "source": [
    "df[0]"
   ]
  },
  {
   "cell_type": "code",
   "execution_count": 34,
   "metadata": {
    "id": "owwSCuZYU-sT"
   },
   "outputs": [],
   "source": [
    "df2016 = df[0]"
   ]
  },
  {
   "cell_type": "code",
   "execution_count": 35,
   "metadata": {
    "scrolled": true
   },
   "outputs": [],
   "source": [
    "df2016.drop('Genre', inplace = True,axis = 1)"
   ]
  },
  {
   "cell_type": "code",
   "execution_count": 36,
   "metadata": {
    "scrolled": true
   },
   "outputs": [],
   "source": [
    "df2016.drop('Budget', inplace = True,axis = 1)"
   ]
  },
  {
   "cell_type": "code",
   "execution_count": 37,
   "metadata": {
    "scrolled": true
   },
   "outputs": [],
   "source": [
    "df2016.drop('Running Time', inplace = True,axis = 1)"
   ]
  },
  {
   "cell_type": "code",
   "execution_count": 38,
   "metadata": {},
   "outputs": [
    {
     "name": "stderr",
     "output_type": "stream",
     "text": [
      "/var/folders/k5/kq4wgns12dn1k2v1k48nckdc0000gn/T/ipykernel_40795/265775261.py:1: FutureWarning: The default value of regex will change from True to False in a future version.\n",
      "  df2016['Top 10 Gross'] = df2016['Top 10 Gross'].str.replace('\\W','')\n"
     ]
    }
   ],
   "source": [
    "df2016['Top 10 Gross'] = df2016['Top 10 Gross'].str.replace('\\W','')"
   ]
  },
  {
   "cell_type": "code",
   "execution_count": 39,
   "metadata": {},
   "outputs": [],
   "source": [
    "df2016['Top 10 Gross'] = df2016['Top 10 Gross'].astype('int64')"
   ]
  },
  {
   "cell_type": "code",
   "execution_count": 40,
   "metadata": {
    "id": "LnK9JHQ9VFkq",
    "scrolled": false
   },
   "outputs": [
    {
     "data": {
      "text/plain": [
       "0     220396876\n",
       "1     166381697\n",
       "2     250611546\n",
       "3     165020197\n",
       "4     203485726\n",
       "        ...    \n",
       "59     95736903\n",
       "60    175297289\n",
       "61    145502232\n",
       "62    142912699\n",
       "63    198537624\n",
       "Name: Top 10 Gross, Length: 64, dtype: int64"
      ]
     },
     "execution_count": 40,
     "metadata": {},
     "output_type": "execute_result"
    }
   ],
   "source": [
    "df2016['Top 10 Gross']"
   ]
  },
  {
   "cell_type": "code",
   "execution_count": 41,
   "metadata": {},
   "outputs": [
    {
     "name": "stdout",
     "output_type": "stream",
     "text": [
      "<class 'pandas.core.frame.DataFrame'>\n",
      "RangeIndex: 64 entries, 0 to 63\n",
      "Data columns (total 9 columns):\n",
      " #   Column         Non-Null Count  Dtype \n",
      "---  ------         --------------  ----- \n",
      " 0   Dates          64 non-null     object\n",
      " 1   Top 10 Gross   64 non-null     int64 \n",
      " 2   %± LW          64 non-null     object\n",
      " 3   Overall Gross  64 non-null     object\n",
      " 4   %± LW.1        64 non-null     object\n",
      " 5   Releases       64 non-null     int64 \n",
      " 6   #1 Release     64 non-null     object\n",
      " 7   Week           64 non-null     int64 \n",
      " 8   Long Weekend   64 non-null     bool  \n",
      "dtypes: bool(1), int64(3), object(5)\n",
      "memory usage: 4.2+ KB\n"
     ]
    }
   ],
   "source": [
    "df2016.info()"
   ]
  },
  {
   "cell_type": "markdown",
   "metadata": {
    "id": "laW205ykvn0S"
   },
   "source": [
    "## Data cleaning"
   ]
  },
  {
   "cell_type": "markdown",
   "metadata": {
    "id": "b-cH41xd54Tw"
   },
   "source": [
    "We can see that the table header is presented multiple times in several rows."
   ]
  },
  {
   "cell_type": "code",
   "execution_count": null,
   "metadata": {
    "colab": {
     "base_uri": "https://localhost:8080/",
     "height": 49
    },
    "id": "6St9yeuZg9rf",
    "outputId": "e176d7bc-b52f-48d7-8f0f-4cbce55b271a"
   },
   "outputs": [],
   "source": [
    "df2016[df2016.Releases == 'Releases']"
   ]
  },
  {
   "cell_type": "code",
   "execution_count": null,
   "metadata": {
    "colab": {
     "base_uri": "https://localhost:8080/"
    },
    "id": "EZx7cPTrW94a",
    "outputId": "6c37d57c-268c-4e67-efb0-70f69d42f639"
   },
   "outputs": [],
   "source": [
    "df2016.shape"
   ]
  },
  {
   "cell_type": "code",
   "execution_count": null,
   "metadata": {
    "colab": {
     "base_uri": "https://localhost:8080/"
    },
    "id": "rdRg9UDI5lus",
    "outputId": "cd9f1293-d4c5-4ec3-9f90-7f30f44e7677"
   },
   "outputs": [],
   "source": [
    "len(df2016[df2016.Releases == 'Releases'])"
   ]
  },
  {
   "cell_type": "code",
   "execution_count": null,
   "metadata": {
    "id": "lG34yiD5e_Cs"
   },
   "outputs": [],
   "source": [
    "df = df2016.drop(df2016[df2016.Releases == 'Releases'].index)"
   ]
  },
  {
   "cell_type": "code",
   "execution_count": null,
   "metadata": {
    "colab": {
     "base_uri": "https://localhost:8080/"
    },
    "id": "1DwL0sq-u7wF",
    "outputId": "b2c02b17-b19b-4296-d71d-497ba00b091a"
   },
   "outputs": [],
   "source": [
    "df.shape"
   ]
  },
  {
   "cell_type": "markdown",
   "metadata": {
    "id": "o4x9M9ArXl7l"
   },
   "source": [
    "## Quick Exploratory Data Analysis"
   ]
  },
  {
   "cell_type": "code",
   "execution_count": 43,
   "metadata": {
    "id": "Vw0kwGHNgSMS"
   },
   "outputs": [],
   "source": [
    "import seaborn as sns"
   ]
  },
  {
   "cell_type": "markdown",
   "metadata": {
    "id": "Vw77h9jPEd2z"
   },
   "source": [
    "Making the Line Plot of # of Releases during 2022"
   ]
  },
  {
   "cell_type": "code",
   "execution_count": 44,
   "metadata": {
    "colab": {
     "base_uri": "https://localhost:8080/",
     "height": 296
    },
    "id": "NqU0tBcuh-5V",
    "outputId": "efc20768-af8d-40d1-a39c-b821d7c23d8f"
   },
   "outputs": [
    {
     "data": {
      "text/plain": [
       "<AxesSubplot: xlabel='Week', ylabel='Releases'>"
      ]
     },
     "execution_count": 44,
     "metadata": {},
     "output_type": "execute_result"
    },
    {
     "data": {
      "image/png": "[encoded data removed]",
      "text/plain": [
       "<Figure size 640x480 with 1 Axes>"
      ]
     },
     "metadata": {},
     "output_type": "display_data"
    }
   ],
   "source": [
    "sns.lineplot(data = df2016, x = 'Week', y = 'Releases')"
   ]
  }
 ],
 "metadata": {
  "colab": {
   "collapsed_sections": [],
   "provenance": []
  },
  "kernelspec": {
   "display_name": "Python 3 (ipykernel)",
   "language": "python",
   "name": "python3"
  },
  "language_info": {
   "codemirror_mode": {
    "name": "ipython",
    "version": 3
   },
   "file_extension": ".py",
   "mimetype": "text/x-python",
   "name": "python",
   "nbconvert_exporter": "python",
   "pygments_lexer": "ipython3",
   "version": "3.9.12"
  }
 },
 "nbformat": 4,
 "nbformat_minor": 1
}
