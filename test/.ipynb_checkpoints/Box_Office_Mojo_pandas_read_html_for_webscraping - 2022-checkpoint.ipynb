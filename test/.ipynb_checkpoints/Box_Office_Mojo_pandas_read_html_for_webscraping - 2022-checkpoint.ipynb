{
 "cells": [
  {
   "cell_type": "markdown",
   "metadata": {
    "id": "5WNm0Jm7Sg_B"
   },
   "source": [
    "# **Using pandas read_html to Web Scrape Data for Data Science** \n",
    "\n",
    "Tarun Badarvada\n",
    "\n",
    "<i>[Data Professor YouTube channel](http://youtube.com/dataprofessor), http://youtube.com/dataprofessor </i>\n",
    "\n",
    "In this Jupyter notebook, I will be showing you how to easily web scrape data using pandas read_html() function for your data science project. We will be web scraping BoxOfficeMojo data and perform a quick data exploration."
   ]
  },
  {
   "cell_type": "markdown",
   "metadata": {
    "id": "jsGSzqADSa0o"
   },
   "source": [
    "## **URL to the webpage \"Box Offce Data from Box Office Mojo\"**"
   ]
  },
  {
   "cell_type": "markdown",
   "metadata": {
    "id": "-AQZU0n4StVq"
   },
   "source": [
    "### Method 1\n",
    "\n",
    "We could modularize the URL and year strings of text that may be useful for programmatic access (in the subsequent code cell)."
   ]
  },
  {
   "cell_type": "code",
   "execution_count": 1,
   "metadata": {
    "colab": {
     "base_uri": "https://localhost:8080/",
     "height": 35
    },
    "id": "pGkHgtANQ4b2",
    "outputId": "4bd11ea1-f2cf-4f7b-8f5d-9539faab4635"
   },
   "outputs": [
    {
     "data": {
      "text/plain": [
       "'https://www.boxofficemojo.com/weekend/by-year/2021/'"
      ]
     },
     "execution_count": 1,
     "metadata": {},
     "output_type": "execute_result"
    }
   ],
   "source": [
    "# The Building Blocks\n",
    "url = 'https://www.boxofficemojo.com/weekend/by-year/2021/'\n",
    "\n",
    "# Combining the URL + year strings together\n",
    "url"
   ]
  },
  {
   "cell_type": "markdown",
   "metadata": {
    "id": "fhVY2xJJS0FU"
   },
   "source": [
    "## **Read HTML webpage into pandas**"
   ]
  },
  {
   "cell_type": "code",
   "execution_count": 2,
   "metadata": {
    "id": "yE_EfE-gPW1a"
   },
   "outputs": [],
   "source": [
    "import pandas as pd"
   ]
  },
  {
   "cell_type": "markdown",
   "metadata": {
    "id": "Sk1EUVeFUXPq"
   },
   "source": [
    "### Using pd.read_html() function to read HTML webpage"
   ]
  },
  {
   "cell_type": "code",
   "execution_count": 3,
   "metadata": {
    "colab": {
     "base_uri": "https://localhost:8080/"
    },
    "id": "4sLS78K-S-r2",
    "outputId": "d88574ef-82a1-4916-81b4-34285b52cd0a"
   },
   "outputs": [
    {
     "data": {
      "text/plain": [
       "[                                 Dates  Top 10 Gross    %± LW Overall Gross  \\\n",
       " 0                   Dec 31-Jan 2, 2022   $95,723,075   -31.6%   $98,910,707   \n",
       " 1                            Dec 24-26  $139,868,872   -50.4%  $143,835,740   \n",
       " 2                            Dec 17-19  $281,737,588  +591.1%  $282,972,675   \n",
       " 3                            Dec 10-12   $40,765,448   -14.2%   $43,940,100   \n",
       " 4             Dec 3-5Post-Thanksgiving   $47,539,355  +539.4%   $52,704,939   \n",
       " ..                                 ...           ...      ...           ...   \n",
       " 57          Jan 22-24COVID-19 Pandemic    $8,331,573   -21.2%    $9,004,940   \n",
       " 58          Jan 15-17COVID-19 Pandemic   $10,578,393   +19.3%   $10,927,986   \n",
       " 59  Jan 15-18COVID-19 PandemicMLK wknd   $12,497,047   -93.2%   $12,907,583   \n",
       " 60           Jan 8-10COVID-19 Pandemic    $8,867,268   -29.5%    $9,115,736   \n",
       " 61            Jan 1-3COVID-19 Pandemic   $12,584,769   -47.1%   $12,862,573   \n",
       " \n",
       "     %± LW.1  Releases               #1 Release Genre Budget Running Time  \\\n",
       " 0    -31.2%        36  Spider-Man: No Way Home     -      -            -   \n",
       " 1    -49.2%        40  Spider-Man: No Way Home     -      -            -   \n",
       " 2     +544%        43  Spider-Man: No Way Home     -      -            -   \n",
       " 3    -16.6%        45          West Side Story     -      -            -   \n",
       " 4   +527.6%        47                  Encanto     -      -            -   \n",
       " ..      ...       ...                      ...   ...    ...          ...   \n",
       " 57   -17.6%        36             The Marksman     -      -            -   \n",
       " 58   +19.9%        23             The Marksman     -      -            -   \n",
       " 59   -93.7%        21             The Marksman     -      -            -   \n",
       " 60   -29.1%        25        Wonder Woman 1984     -      -            -   \n",
       " 61   -46.9%        27        Wonder Woman 1984     -      -            -   \n",
       " \n",
       "     Week  Long Weekend  \n",
       " 0     53         False  \n",
       " 1     52         False  \n",
       " 2     51         False  \n",
       " 3     50         False  \n",
       " 4     49          True  \n",
       " ..   ...           ...  \n",
       " 57     4         False  \n",
       " 58     3         False  \n",
       " 59     3          True  \n",
       " 60     2         False  \n",
       " 61     1         False  \n",
       " \n",
       " [62 rows x 12 columns]]"
      ]
     },
     "execution_count": 3,
     "metadata": {},
     "output_type": "execute_result"
    }
   ],
   "source": [
    "df = pd.read_html(url, header = 0)\n",
    "df"
   ]
  },
  {
   "cell_type": "markdown",
   "metadata": {
    "id": "iVtWB7zuUWIp"
   },
   "source": [
    "### How many tables are there in the webpage?"
   ]
  },
  {
   "cell_type": "code",
   "execution_count": 4,
   "metadata": {
    "colab": {
     "base_uri": "https://localhost:8080/"
    },
    "id": "BdIXrthuTApH",
    "outputId": "079ba129-31eb-4887-da83-9ab3dbf16c45"
   },
   "outputs": [
    {
     "data": {
      "text/plain": [
       "1"
      ]
     },
     "execution_count": 4,
     "metadata": {},
     "output_type": "execute_result"
    }
   ],
   "source": [
    "len(df)"
   ]
  },
  {
   "cell_type": "markdown",
   "metadata": {
    "id": "glCMVlkWU6ik"
   },
   "source": [
    "### Select the first table"
   ]
  },
  {
   "cell_type": "code",
   "execution_count": 5,
   "metadata": {
    "colab": {
     "base_uri": "https://localhost:8080/",
     "height": 1000
    },
    "id": "Pv0NHbFeTrEp",
    "outputId": "ea4eaff5-93a5-4743-fbee-6a9709622b58",
    "scrolled": true
   },
   "outputs": [
    {
     "data": {
      "text/html": [
       "<div>\n",
       "<style scoped>\n",
       "    .dataframe tbody tr th:only-of-type {\n",
       "        vertical-align: middle;\n",
       "    }\n",
       "\n",
       "    .dataframe tbody tr th {\n",
       "        vertical-align: top;\n",
       "    }\n",
       "\n",
       "    .dataframe thead th {\n",
       "        text-align: right;\n",
       "    }\n",
       "</style>\n",
       "<table border=\"1\" class=\"dataframe\">\n",
       "  <thead>\n",
       "    <tr style=\"text-align: right;\">\n",
       "      <th></th>\n",
       "      <th>Dates</th>\n",
       "      <th>Top 10 Gross</th>\n",
       "      <th>%± LW</th>\n",
       "      <th>Overall Gross</th>\n",
       "      <th>%± LW.1</th>\n",
       "      <th>Releases</th>\n",
       "      <th>#1 Release</th>\n",
       "      <th>Genre</th>\n",
       "      <th>Budget</th>\n",
       "      <th>Running Time</th>\n",
       "      <th>Week</th>\n",
       "      <th>Long Weekend</th>\n",
       "    </tr>\n",
       "  </thead>\n",
       "  <tbody>\n",
       "    <tr>\n",
       "      <th>0</th>\n",
       "      <td>Dec 31-Jan 2, 2022</td>\n",
       "      <td>$95,723,075</td>\n",
       "      <td>-31.6%</td>\n",
       "      <td>$98,910,707</td>\n",
       "      <td>-31.2%</td>\n",
       "      <td>36</td>\n",
       "      <td>Spider-Man: No Way Home</td>\n",
       "      <td>-</td>\n",
       "      <td>-</td>\n",
       "      <td>-</td>\n",
       "      <td>53</td>\n",
       "      <td>False</td>\n",
       "    </tr>\n",
       "    <tr>\n",
       "      <th>1</th>\n",
       "      <td>Dec 24-26</td>\n",
       "      <td>$139,868,872</td>\n",
       "      <td>-50.4%</td>\n",
       "      <td>$143,835,740</td>\n",
       "      <td>-49.2%</td>\n",
       "      <td>40</td>\n",
       "      <td>Spider-Man: No Way Home</td>\n",
       "      <td>-</td>\n",
       "      <td>-</td>\n",
       "      <td>-</td>\n",
       "      <td>52</td>\n",
       "      <td>False</td>\n",
       "    </tr>\n",
       "    <tr>\n",
       "      <th>2</th>\n",
       "      <td>Dec 17-19</td>\n",
       "      <td>$281,737,588</td>\n",
       "      <td>+591.1%</td>\n",
       "      <td>$282,972,675</td>\n",
       "      <td>+544%</td>\n",
       "      <td>43</td>\n",
       "      <td>Spider-Man: No Way Home</td>\n",
       "      <td>-</td>\n",
       "      <td>-</td>\n",
       "      <td>-</td>\n",
       "      <td>51</td>\n",
       "      <td>False</td>\n",
       "    </tr>\n",
       "    <tr>\n",
       "      <th>3</th>\n",
       "      <td>Dec 10-12</td>\n",
       "      <td>$40,765,448</td>\n",
       "      <td>-14.2%</td>\n",
       "      <td>$43,940,100</td>\n",
       "      <td>-16.6%</td>\n",
       "      <td>45</td>\n",
       "      <td>West Side Story</td>\n",
       "      <td>-</td>\n",
       "      <td>-</td>\n",
       "      <td>-</td>\n",
       "      <td>50</td>\n",
       "      <td>False</td>\n",
       "    </tr>\n",
       "    <tr>\n",
       "      <th>4</th>\n",
       "      <td>Dec 3-5Post-Thanksgiving</td>\n",
       "      <td>$47,539,355</td>\n",
       "      <td>+539.4%</td>\n",
       "      <td>$52,704,939</td>\n",
       "      <td>+527.6%</td>\n",
       "      <td>47</td>\n",
       "      <td>Encanto</td>\n",
       "      <td>-</td>\n",
       "      <td>-</td>\n",
       "      <td>-</td>\n",
       "      <td>49</td>\n",
       "      <td>True</td>\n",
       "    </tr>\n",
       "    <tr>\n",
       "      <th>...</th>\n",
       "      <td>...</td>\n",
       "      <td>...</td>\n",
       "      <td>...</td>\n",
       "      <td>...</td>\n",
       "      <td>...</td>\n",
       "      <td>...</td>\n",
       "      <td>...</td>\n",
       "      <td>...</td>\n",
       "      <td>...</td>\n",
       "      <td>...</td>\n",
       "      <td>...</td>\n",
       "      <td>...</td>\n",
       "    </tr>\n",
       "    <tr>\n",
       "      <th>57</th>\n",
       "      <td>Jan 22-24COVID-19 Pandemic</td>\n",
       "      <td>$8,331,573</td>\n",
       "      <td>-21.2%</td>\n",
       "      <td>$9,004,940</td>\n",
       "      <td>-17.6%</td>\n",
       "      <td>36</td>\n",
       "      <td>The Marksman</td>\n",
       "      <td>-</td>\n",
       "      <td>-</td>\n",
       "      <td>-</td>\n",
       "      <td>4</td>\n",
       "      <td>False</td>\n",
       "    </tr>\n",
       "    <tr>\n",
       "      <th>58</th>\n",
       "      <td>Jan 15-17COVID-19 Pandemic</td>\n",
       "      <td>$10,578,393</td>\n",
       "      <td>+19.3%</td>\n",
       "      <td>$10,927,986</td>\n",
       "      <td>+19.9%</td>\n",
       "      <td>23</td>\n",
       "      <td>The Marksman</td>\n",
       "      <td>-</td>\n",
       "      <td>-</td>\n",
       "      <td>-</td>\n",
       "      <td>3</td>\n",
       "      <td>False</td>\n",
       "    </tr>\n",
       "    <tr>\n",
       "      <th>59</th>\n",
       "      <td>Jan 15-18COVID-19 PandemicMLK wknd</td>\n",
       "      <td>$12,497,047</td>\n",
       "      <td>-93.2%</td>\n",
       "      <td>$12,907,583</td>\n",
       "      <td>-93.7%</td>\n",
       "      <td>21</td>\n",
       "      <td>The Marksman</td>\n",
       "      <td>-</td>\n",
       "      <td>-</td>\n",
       "      <td>-</td>\n",
       "      <td>3</td>\n",
       "      <td>True</td>\n",
       "    </tr>\n",
       "    <tr>\n",
       "      <th>60</th>\n",
       "      <td>Jan 8-10COVID-19 Pandemic</td>\n",
       "      <td>$8,867,268</td>\n",
       "      <td>-29.5%</td>\n",
       "      <td>$9,115,736</td>\n",
       "      <td>-29.1%</td>\n",
       "      <td>25</td>\n",
       "      <td>Wonder Woman 1984</td>\n",
       "      <td>-</td>\n",
       "      <td>-</td>\n",
       "      <td>-</td>\n",
       "      <td>2</td>\n",
       "      <td>False</td>\n",
       "    </tr>\n",
       "    <tr>\n",
       "      <th>61</th>\n",
       "      <td>Jan 1-3COVID-19 Pandemic</td>\n",
       "      <td>$12,584,769</td>\n",
       "      <td>-47.1%</td>\n",
       "      <td>$12,862,573</td>\n",
       "      <td>-46.9%</td>\n",
       "      <td>27</td>\n",
       "      <td>Wonder Woman 1984</td>\n",
       "      <td>-</td>\n",
       "      <td>-</td>\n",
       "      <td>-</td>\n",
       "      <td>1</td>\n",
       "      <td>False</td>\n",
       "    </tr>\n",
       "  </tbody>\n",
       "</table>\n",
       "<p>62 rows × 12 columns</p>\n",
       "</div>"
      ],
      "text/plain": [
       "                                 Dates  Top 10 Gross    %± LW Overall Gross  \\\n",
       "0                   Dec 31-Jan 2, 2022   $95,723,075   -31.6%   $98,910,707   \n",
       "1                            Dec 24-26  $139,868,872   -50.4%  $143,835,740   \n",
       "2                            Dec 17-19  $281,737,588  +591.1%  $282,972,675   \n",
       "3                            Dec 10-12   $40,765,448   -14.2%   $43,940,100   \n",
       "4             Dec 3-5Post-Thanksgiving   $47,539,355  +539.4%   $52,704,939   \n",
       "..                                 ...           ...      ...           ...   \n",
       "57          Jan 22-24COVID-19 Pandemic    $8,331,573   -21.2%    $9,004,940   \n",
       "58          Jan 15-17COVID-19 Pandemic   $10,578,393   +19.3%   $10,927,986   \n",
       "59  Jan 15-18COVID-19 PandemicMLK wknd   $12,497,047   -93.2%   $12,907,583   \n",
       "60           Jan 8-10COVID-19 Pandemic    $8,867,268   -29.5%    $9,115,736   \n",
       "61            Jan 1-3COVID-19 Pandemic   $12,584,769   -47.1%   $12,862,573   \n",
       "\n",
       "    %± LW.1  Releases               #1 Release Genre Budget Running Time  \\\n",
       "0    -31.2%        36  Spider-Man: No Way Home     -      -            -   \n",
       "1    -49.2%        40  Spider-Man: No Way Home     -      -            -   \n",
       "2     +544%        43  Spider-Man: No Way Home     -      -            -   \n",
       "3    -16.6%        45          West Side Story     -      -            -   \n",
       "4   +527.6%        47                  Encanto     -      -            -   \n",
       "..      ...       ...                      ...   ...    ...          ...   \n",
       "57   -17.6%        36             The Marksman     -      -            -   \n",
       "58   +19.9%        23             The Marksman     -      -            -   \n",
       "59   -93.7%        21             The Marksman     -      -            -   \n",
       "60   -29.1%        25        Wonder Woman 1984     -      -            -   \n",
       "61   -46.9%        27        Wonder Woman 1984     -      -            -   \n",
       "\n",
       "    Week  Long Weekend  \n",
       "0     53         False  \n",
       "1     52         False  \n",
       "2     51         False  \n",
       "3     50         False  \n",
       "4     49          True  \n",
       "..   ...           ...  \n",
       "57     4         False  \n",
       "58     3         False  \n",
       "59     3          True  \n",
       "60     2         False  \n",
       "61     1         False  \n",
       "\n",
       "[62 rows x 12 columns]"
      ]
     },
     "execution_count": 5,
     "metadata": {},
     "output_type": "execute_result"
    }
   ],
   "source": [
    "df[0]"
   ]
  },
  {
   "cell_type": "code",
   "execution_count": 6,
   "metadata": {
    "id": "owwSCuZYU-sT"
   },
   "outputs": [],
   "source": [
    "df2021 = df[0]"
   ]
  },
  {
   "cell_type": "code",
   "execution_count": 7,
   "metadata": {
    "scrolled": true
   },
   "outputs": [],
   "source": [
    "df2021.drop('Genre', inplace = True,axis = 1)"
   ]
  },
  {
   "cell_type": "code",
   "execution_count": 8,
   "metadata": {
    "scrolled": true
   },
   "outputs": [],
   "source": [
    "df2021.drop('Budget', inplace = True,axis = 1)"
   ]
  },
  {
   "cell_type": "code",
   "execution_count": 9,
   "metadata": {
    "scrolled": true
   },
   "outputs": [],
   "source": [
    "df2021.drop('Running Time', inplace = True,axis = 1)"
   ]
  },
  {
   "cell_type": "code",
   "execution_count": 10,
   "metadata": {},
   "outputs": [
    {
     "name": "stderr",
     "output_type": "stream",
     "text": [
      "/var/folders/k5/kq4wgns12dn1k2v1k48nckdc0000gn/T/ipykernel_41940/1319022251.py:1: FutureWarning: The default value of regex will change from True to False in a future version.\n",
      "  df2021['Top 10 Gross'] = df2021['Top 10 Gross'].str.replace('\\W','')\n"
     ]
    }
   ],
   "source": [
    "df2021['Top 10 Gross'] = df2021['Top 10 Gross'].str.replace('\\W','')"
   ]
  },
  {
   "cell_type": "code",
   "execution_count": 11,
   "metadata": {},
   "outputs": [],
   "source": [
    "df2021['Top 10 Gross'] = df2021['Top 10 Gross'].astype('int64')"
   ]
  },
  {
   "cell_type": "code",
   "execution_count": 12,
   "metadata": {
    "id": "LnK9JHQ9VFkq",
    "scrolled": false
   },
   "outputs": [
    {
     "data": {
      "text/plain": [
       "0      95723075\n",
       "1     139868872\n",
       "2     281737588\n",
       "3      40765448\n",
       "4      47539355\n",
       "        ...    \n",
       "57      8331573\n",
       "58     10578393\n",
       "59     12497047\n",
       "60      8867268\n",
       "61     12584769\n",
       "Name: Top 10 Gross, Length: 62, dtype: int64"
      ]
     },
     "execution_count": 12,
     "metadata": {},
     "output_type": "execute_result"
    }
   ],
   "source": [
    "df2021['Top 10 Gross']"
   ]
  },
  {
   "cell_type": "code",
   "execution_count": 13,
   "metadata": {},
   "outputs": [
    {
     "name": "stdout",
     "output_type": "stream",
     "text": [
      "<class 'pandas.core.frame.DataFrame'>\n",
      "RangeIndex: 62 entries, 0 to 61\n",
      "Data columns (total 9 columns):\n",
      " #   Column         Non-Null Count  Dtype \n",
      "---  ------         --------------  ----- \n",
      " 0   Dates          62 non-null     object\n",
      " 1   Top 10 Gross   62 non-null     int64 \n",
      " 2   %± LW          62 non-null     object\n",
      " 3   Overall Gross  62 non-null     object\n",
      " 4   %± LW.1        62 non-null     object\n",
      " 5   Releases       62 non-null     int64 \n",
      " 6   #1 Release     62 non-null     object\n",
      " 7   Week           62 non-null     int64 \n",
      " 8   Long Weekend   62 non-null     bool  \n",
      "dtypes: bool(1), int64(3), object(5)\n",
      "memory usage: 4.1+ KB\n"
     ]
    }
   ],
   "source": [
    "df2021.info()"
   ]
  },
  {
   "cell_type": "markdown",
   "metadata": {
    "id": "laW205ykvn0S"
   },
   "source": [
    "## Data cleaning"
   ]
  },
  {
   "cell_type": "markdown",
   "metadata": {
    "id": "b-cH41xd54Tw"
   },
   "source": [
    "We can see that the table header is presented multiple times in several rows."
   ]
  },
  {
   "cell_type": "code",
   "execution_count": 14,
   "metadata": {
    "colab": {
     "base_uri": "https://localhost:8080/",
     "height": 49
    },
    "id": "6St9yeuZg9rf",
    "outputId": "e176d7bc-b52f-48d7-8f0f-4cbce55b271a",
    "scrolled": true
   },
   "outputs": [
    {
     "data": {
      "text/html": [
       "<div>\n",
       "<style scoped>\n",
       "    .dataframe tbody tr th:only-of-type {\n",
       "        vertical-align: middle;\n",
       "    }\n",
       "\n",
       "    .dataframe tbody tr th {\n",
       "        vertical-align: top;\n",
       "    }\n",
       "\n",
       "    .dataframe thead th {\n",
       "        text-align: right;\n",
       "    }\n",
       "</style>\n",
       "<table border=\"1\" class=\"dataframe\">\n",
       "  <thead>\n",
       "    <tr style=\"text-align: right;\">\n",
       "      <th></th>\n",
       "      <th>Dates</th>\n",
       "      <th>Top 10 Gross</th>\n",
       "      <th>%± LW</th>\n",
       "      <th>Overall Gross</th>\n",
       "      <th>%± LW.1</th>\n",
       "      <th>Releases</th>\n",
       "      <th>#1 Release</th>\n",
       "      <th>Week</th>\n",
       "      <th>Long Weekend</th>\n",
       "    </tr>\n",
       "  </thead>\n",
       "  <tbody>\n",
       "  </tbody>\n",
       "</table>\n",
       "</div>"
      ],
      "text/plain": [
       "Empty DataFrame\n",
       "Columns: [Dates, Top 10 Gross, %± LW, Overall Gross, %± LW.1, Releases, #1 Release, Week, Long Weekend]\n",
       "Index: []"
      ]
     },
     "execution_count": 14,
     "metadata": {},
     "output_type": "execute_result"
    }
   ],
   "source": [
    "df2021[df2021.Releases == 'Releases']"
   ]
  },
  {
   "cell_type": "code",
   "execution_count": 15,
   "metadata": {
    "colab": {
     "base_uri": "https://localhost:8080/"
    },
    "id": "EZx7cPTrW94a",
    "outputId": "6c37d57c-268c-4e67-efb0-70f69d42f639"
   },
   "outputs": [
    {
     "data": {
      "text/plain": [
       "(62, 9)"
      ]
     },
     "execution_count": 15,
     "metadata": {},
     "output_type": "execute_result"
    }
   ],
   "source": [
    "df2021.shape"
   ]
  },
  {
   "cell_type": "code",
   "execution_count": 16,
   "metadata": {
    "colab": {
     "base_uri": "https://localhost:8080/"
    },
    "id": "rdRg9UDI5lus",
    "outputId": "cd9f1293-d4c5-4ec3-9f90-7f30f44e7677"
   },
   "outputs": [
    {
     "data": {
      "text/plain": [
       "0"
      ]
     },
     "execution_count": 16,
     "metadata": {},
     "output_type": "execute_result"
    }
   ],
   "source": [
    "len(df2021[df2021.Releases == 'Releases'])"
   ]
  },
  {
   "cell_type": "code",
   "execution_count": 17,
   "metadata": {
    "id": "lG34yiD5e_Cs"
   },
   "outputs": [],
   "source": [
    "df = df2021.drop(df2021[df2021.Releases == 'Releases'].index)"
   ]
  },
  {
   "cell_type": "code",
   "execution_count": 18,
   "metadata": {
    "colab": {
     "base_uri": "https://localhost:8080/"
    },
    "id": "1DwL0sq-u7wF",
    "outputId": "b2c02b17-b19b-4296-d71d-497ba00b091a"
   },
   "outputs": [
    {
     "data": {
      "text/plain": [
       "(62, 9)"
      ]
     },
     "execution_count": 18,
     "metadata": {},
     "output_type": "execute_result"
    }
   ],
   "source": [
    "df.shape"
   ]
  },
  {
   "cell_type": "markdown",
   "metadata": {
    "id": "o4x9M9ArXl7l"
   },
   "source": [
    "## Quick Exploratory Data Analysis"
   ]
  },
  {
   "cell_type": "code",
   "execution_count": 19,
   "metadata": {
    "id": "Vw0kwGHNgSMS"
   },
   "outputs": [],
   "source": [
    "import seaborn as sns"
   ]
  },
  {
   "cell_type": "code",
   "execution_count": 20,
   "metadata": {},
   "outputs": [],
   "source": [
    "import matplotlib.pyplot as plt"
   ]
  },
  {
   "cell_type": "markdown",
   "metadata": {
    "id": "Vw77h9jPEd2z"
   },
   "source": [
    "Making the Line Plot of # of Releases during 2022"
   ]
  },
  {
   "cell_type": "code",
   "execution_count": 21,
   "metadata": {
    "colab": {
     "base_uri": "https://localhost:8080/",
     "height": 296
    },
    "id": "NqU0tBcuh-5V",
    "outputId": "efc20768-af8d-40d1-a39c-b821d7c23d8f"
   },
   "outputs": [
    {
     "data": {
      "text/plain": [
       "<AxesSubplot: xlabel='Week', ylabel='Releases'>"
      ]
     },
     "execution_count": 21,
     "metadata": {},
     "output_type": "execute_result"
    },
    {
     "data": {
      "image/png": "[encoded data removed]",
      "text/plain": [
       "<Figure size 640x480 with 1 Axes>"
      ]
     },
     "metadata": {},
     "output_type": "display_data"
    }
   ],
   "source": [
    "sns.lineplot(data = df2021, x = 'Week', y = 'Releases')"
   ]
  },
  {
   "cell_type": "markdown",
   "metadata": {},
   "source": [
    "Plotted Line graph of Top 10 Gross vs. Weeks"
   ]
  },
  {
   "cell_type": "code",
   "execution_count": 22,
   "metadata": {
    "scrolled": true
   },
   "outputs": [
    {
     "data": {
      "image/png": "[encoded data removed]",
      "text/plain": [
       "<Figure size 640x480 with 1 Axes>"
      ]
     },
     "metadata": {},
     "output_type": "display_data"
    }
   ],
   "source": [
    "plt.plot(df2021['Week'],df2021['Top 10 Gross'])\n",
    "plt.show()"
   ]
  },
  {
   "cell_type": "code",
   "execution_count": 23,
   "metadata": {},
   "outputs": [],
   "source": [
    "#Save data fram to csv\n",
    "\n",
    "df2021.to_csv('data2021.csv')"
   ]
  },
  {
   "cell_type": "code",
   "execution_count": null,
   "metadata": {},
   "outputs": [],
   "source": []
  },
  {
   "cell_type": "code",
   "execution_count": null,
   "metadata": {},
   "outputs": [],
   "source": []
  }
 ],
 "metadata": {
  "colab": {
   "collapsed_sections": [],
   "provenance": []
  },
  "kernelspec": {
   "display_name": "Python 3 (ipykernel)",
   "language": "python",
   "name": "python3"
  },
  "language_info": {
   "codemirror_mode": {
    "name": "ipython",
    "version": 3
   },
   "file_extension": ".py",
   "mimetype": "text/x-python",
   "name": "python",
   "nbconvert_exporter": "python",
   "pygments_lexer": "ipython3",
   "version": "3.9.12"
  }
 },
 "nbformat": 4,
 "nbformat_minor": 1
}
