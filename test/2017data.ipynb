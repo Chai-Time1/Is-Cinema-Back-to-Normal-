{
 "cells": [
  {
   "cell_type": "markdown",
   "metadata": {
    "id": "5WNm0Jm7Sg_B"
   },
   "source": [
    "# **Using pandas read_html to Web Scrape Data for Data Science** \n",
    "\n",
    "Tarun Badarvada\n",
    "\n",
    "<i>[Data Professor YouTube channel](http://youtube.com/dataprofessor), http://youtube.com/dataprofessor </i>\n",
    "\n",
    "In this Jupyter notebook, I will be showing you how to easily web scrape data using pandas read_html() function for your data science project. We will be web scraping BoxOfficeMojo data and perform a quick data exploration."
   ]
  },
  {
   "cell_type": "markdown",
   "metadata": {
    "id": "jsGSzqADSa0o"
   },
   "source": [
    "## **URL to the webpage \"Box Offce Data from Box Office Mojo\"**"
   ]
  },
  {
   "cell_type": "markdown",
   "metadata": {
    "id": "-AQZU0n4StVq"
   },
   "source": [
    "### Method 1\n",
    "\n",
    "We could modularize the URL and year strings of text that may be useful for programmatic access (in the subsequent code cell)."
   ]
  },
  {
   "cell_type": "code",
   "execution_count": 1,
   "metadata": {
    "colab": {
     "base_uri": "https://localhost:8080/",
     "height": 35
    },
    "id": "pGkHgtANQ4b2",
    "outputId": "4bd11ea1-f2cf-4f7b-8f5d-9539faab4635"
   },
   "outputs": [
    {
     "data": {
      "text/plain": [
       "'https://www.boxofficemojo.com/weekend/by-year/2017/'"
      ]
     },
     "execution_count": 1,
     "metadata": {},
     "output_type": "execute_result"
    }
   ],
   "source": [
    "# The Building Blocks\n",
    "url = 'https://www.boxofficemojo.com/weekend/by-year/2017/'\n",
    "\n",
    "# Combining the URL + year strings together\n",
    "url"
   ]
  },
  {
   "cell_type": "markdown",
   "metadata": {
    "id": "fhVY2xJJS0FU"
   },
   "source": [
    "## **Read HTML webpage into pandas**"
   ]
  },
  {
   "cell_type": "code",
   "execution_count": 2,
   "metadata": {
    "id": "yE_EfE-gPW1a"
   },
   "outputs": [],
   "source": [
    "import pandas as pd"
   ]
  },
  {
   "cell_type": "markdown",
   "metadata": {
    "id": "Sk1EUVeFUXPq"
   },
   "source": [
    "### Using pd.read_html() function to read HTML webpage"
   ]
  },
  {
   "cell_type": "code",
   "execution_count": 3,
   "metadata": {
    "colab": {
     "base_uri": "https://localhost:8080/"
    },
    "id": "4sLS78K-S-r2",
    "outputId": "d88574ef-82a1-4916-81b4-34285b52cd0a"
   },
   "outputs": [
    {
     "data": {
      "text/plain": [
       "[                                     Dates  Top 10 Gross    %± LW  \\\n",
       " 0   Dec 29-Jan 1, 2018New Year's long wknd  $226,045,913    +2.6%   \n",
       " 1                                Dec 29-31  $173,344,651    +5.5%   \n",
       " 2             Dec 22-25Christmas long wknd  $236,559,567    -5.6%   \n",
       " 3                                Dec 22-24  $164,303,262   -38.5%   \n",
       " 4                                Dec 15-17  $267,186,366  +278.2%   \n",
       " ..                                     ...           ...      ...   \n",
       " 58                               Jan 27-29  $111,650,133    -7.1%   \n",
       " 59                               Jan 20-22  $120,214,041      +1%   \n",
       " 60                               Jan 13-15  $119,057,524    -1.2%   \n",
       " 61                       Jan 13-16MLK wknd  $147,714,852   -15.7%   \n",
       " 62                                 Jan 6-8  $120,491,633   -27.6%   \n",
       " \n",
       "    Overall Gross  %± LW.1  Releases                               #1 Release  \\\n",
       " 0   $253,441,683    +2.7%        67  Star Wars: Episode VIII - The Last Jedi   \n",
       " 1   $194,096,602    +8.9%        74  Star Wars: Episode VIII - The Last Jedi   \n",
       " 2   $259,567,981    -5.5%        62  Star Wars: Episode VIII - The Last Jedi   \n",
       " 3   $178,168,406   -35.9%        72  Star Wars: Episode VIII - The Last Jedi   \n",
       " 4   $278,067,957  +227.6%        86  Star Wars: Episode VIII - The Last Jedi   \n",
       " ..           ...      ...       ...                                      ...   \n",
       " 58  $141,980,332    -2.1%        85                                    Split   \n",
       " 59  $145,007,859    -2.9%        89                                    Split   \n",
       " 60  $149,365,311    +8.7%        80                           Hidden Figures   \n",
       " 61  $185,210,740    -7.7%        66                           Hidden Figures   \n",
       " 62  $137,405,045   -26.4%        88                           Hidden Figures   \n",
       " \n",
       "    Genre Budget Running Time  Week  Long Weekend  \n",
       " 0      -      -            -    52          True  \n",
       " 1      -      -            -    52         False  \n",
       " 2      -      -            -    51          True  \n",
       " 3      -      -            -    51         False  \n",
       " 4      -      -            -    50         False  \n",
       " ..   ...    ...          ...   ...           ...  \n",
       " 58     -      -            -     4         False  \n",
       " 59     -      -            -     3         False  \n",
       " 60     -      -            -     2         False  \n",
       " 61     -      -            -     2          True  \n",
       " 62     -      -            -     1         False  \n",
       " \n",
       " [63 rows x 12 columns]]"
      ]
     },
     "execution_count": 3,
     "metadata": {},
     "output_type": "execute_result"
    }
   ],
   "source": [
    "df = pd.read_html(url, header = 0)\n",
    "df"
   ]
  },
  {
   "cell_type": "markdown",
   "metadata": {
    "id": "iVtWB7zuUWIp"
   },
   "source": [
    "### How many tables are there in the webpage?"
   ]
  },
  {
   "cell_type": "code",
   "execution_count": 4,
   "metadata": {
    "colab": {
     "base_uri": "https://localhost:8080/"
    },
    "id": "BdIXrthuTApH",
    "outputId": "079ba129-31eb-4887-da83-9ab3dbf16c45"
   },
   "outputs": [
    {
     "data": {
      "text/plain": [
       "1"
      ]
     },
     "execution_count": 4,
     "metadata": {},
     "output_type": "execute_result"
    }
   ],
   "source": [
    "len(df)"
   ]
  },
  {
   "cell_type": "markdown",
   "metadata": {
    "id": "glCMVlkWU6ik"
   },
   "source": [
    "### Select the first table"
   ]
  },
  {
   "cell_type": "code",
   "execution_count": 5,
   "metadata": {
    "colab": {
     "base_uri": "https://localhost:8080/",
     "height": 1000
    },
    "id": "Pv0NHbFeTrEp",
    "outputId": "ea4eaff5-93a5-4743-fbee-6a9709622b58"
   },
   "outputs": [
    {
     "data": {
      "text/html": [
       "<div>\n",
       "<style scoped>\n",
       "    .dataframe tbody tr th:only-of-type {\n",
       "        vertical-align: middle;\n",
       "    }\n",
       "\n",
       "    .dataframe tbody tr th {\n",
       "        vertical-align: top;\n",
       "    }\n",
       "\n",
       "    .dataframe thead th {\n",
       "        text-align: right;\n",
       "    }\n",
       "</style>\n",
       "<table border=\"1\" class=\"dataframe\">\n",
       "  <thead>\n",
       "    <tr style=\"text-align: right;\">\n",
       "      <th></th>\n",
       "      <th>Dates</th>\n",
       "      <th>Top 10 Gross</th>\n",
       "      <th>%± LW</th>\n",
       "      <th>Overall Gross</th>\n",
       "      <th>%± LW.1</th>\n",
       "      <th>Releases</th>\n",
       "      <th>#1 Release</th>\n",
       "      <th>Genre</th>\n",
       "      <th>Budget</th>\n",
       "      <th>Running Time</th>\n",
       "      <th>Week</th>\n",
       "      <th>Long Weekend</th>\n",
       "    </tr>\n",
       "  </thead>\n",
       "  <tbody>\n",
       "    <tr>\n",
       "      <th>0</th>\n",
       "      <td>Dec 29-Jan 1, 2018New Year's long wknd</td>\n",
       "      <td>$226,045,913</td>\n",
       "      <td>+2.6%</td>\n",
       "      <td>$253,441,683</td>\n",
       "      <td>+2.7%</td>\n",
       "      <td>67</td>\n",
       "      <td>Star Wars: Episode VIII - The Last Jedi</td>\n",
       "      <td>-</td>\n",
       "      <td>-</td>\n",
       "      <td>-</td>\n",
       "      <td>52</td>\n",
       "      <td>True</td>\n",
       "    </tr>\n",
       "    <tr>\n",
       "      <th>1</th>\n",
       "      <td>Dec 29-31</td>\n",
       "      <td>$173,344,651</td>\n",
       "      <td>+5.5%</td>\n",
       "      <td>$194,096,602</td>\n",
       "      <td>+8.9%</td>\n",
       "      <td>74</td>\n",
       "      <td>Star Wars: Episode VIII - The Last Jedi</td>\n",
       "      <td>-</td>\n",
       "      <td>-</td>\n",
       "      <td>-</td>\n",
       "      <td>52</td>\n",
       "      <td>False</td>\n",
       "    </tr>\n",
       "    <tr>\n",
       "      <th>2</th>\n",
       "      <td>Dec 22-25Christmas long wknd</td>\n",
       "      <td>$236,559,567</td>\n",
       "      <td>-5.6%</td>\n",
       "      <td>$259,567,981</td>\n",
       "      <td>-5.5%</td>\n",
       "      <td>62</td>\n",
       "      <td>Star Wars: Episode VIII - The Last Jedi</td>\n",
       "      <td>-</td>\n",
       "      <td>-</td>\n",
       "      <td>-</td>\n",
       "      <td>51</td>\n",
       "      <td>True</td>\n",
       "    </tr>\n",
       "    <tr>\n",
       "      <th>3</th>\n",
       "      <td>Dec 22-24</td>\n",
       "      <td>$164,303,262</td>\n",
       "      <td>-38.5%</td>\n",
       "      <td>$178,168,406</td>\n",
       "      <td>-35.9%</td>\n",
       "      <td>72</td>\n",
       "      <td>Star Wars: Episode VIII - The Last Jedi</td>\n",
       "      <td>-</td>\n",
       "      <td>-</td>\n",
       "      <td>-</td>\n",
       "      <td>51</td>\n",
       "      <td>False</td>\n",
       "    </tr>\n",
       "    <tr>\n",
       "      <th>4</th>\n",
       "      <td>Dec 15-17</td>\n",
       "      <td>$267,186,366</td>\n",
       "      <td>+278.2%</td>\n",
       "      <td>$278,067,957</td>\n",
       "      <td>+227.6%</td>\n",
       "      <td>86</td>\n",
       "      <td>Star Wars: Episode VIII - The Last Jedi</td>\n",
       "      <td>-</td>\n",
       "      <td>-</td>\n",
       "      <td>-</td>\n",
       "      <td>50</td>\n",
       "      <td>False</td>\n",
       "    </tr>\n",
       "    <tr>\n",
       "      <th>...</th>\n",
       "      <td>...</td>\n",
       "      <td>...</td>\n",
       "      <td>...</td>\n",
       "      <td>...</td>\n",
       "      <td>...</td>\n",
       "      <td>...</td>\n",
       "      <td>...</td>\n",
       "      <td>...</td>\n",
       "      <td>...</td>\n",
       "      <td>...</td>\n",
       "      <td>...</td>\n",
       "      <td>...</td>\n",
       "    </tr>\n",
       "    <tr>\n",
       "      <th>58</th>\n",
       "      <td>Jan 27-29</td>\n",
       "      <td>$111,650,133</td>\n",
       "      <td>-7.1%</td>\n",
       "      <td>$141,980,332</td>\n",
       "      <td>-2.1%</td>\n",
       "      <td>85</td>\n",
       "      <td>Split</td>\n",
       "      <td>-</td>\n",
       "      <td>-</td>\n",
       "      <td>-</td>\n",
       "      <td>4</td>\n",
       "      <td>False</td>\n",
       "    </tr>\n",
       "    <tr>\n",
       "      <th>59</th>\n",
       "      <td>Jan 20-22</td>\n",
       "      <td>$120,214,041</td>\n",
       "      <td>+1%</td>\n",
       "      <td>$145,007,859</td>\n",
       "      <td>-2.9%</td>\n",
       "      <td>89</td>\n",
       "      <td>Split</td>\n",
       "      <td>-</td>\n",
       "      <td>-</td>\n",
       "      <td>-</td>\n",
       "      <td>3</td>\n",
       "      <td>False</td>\n",
       "    </tr>\n",
       "    <tr>\n",
       "      <th>60</th>\n",
       "      <td>Jan 13-15</td>\n",
       "      <td>$119,057,524</td>\n",
       "      <td>-1.2%</td>\n",
       "      <td>$149,365,311</td>\n",
       "      <td>+8.7%</td>\n",
       "      <td>80</td>\n",
       "      <td>Hidden Figures</td>\n",
       "      <td>-</td>\n",
       "      <td>-</td>\n",
       "      <td>-</td>\n",
       "      <td>2</td>\n",
       "      <td>False</td>\n",
       "    </tr>\n",
       "    <tr>\n",
       "      <th>61</th>\n",
       "      <td>Jan 13-16MLK wknd</td>\n",
       "      <td>$147,714,852</td>\n",
       "      <td>-15.7%</td>\n",
       "      <td>$185,210,740</td>\n",
       "      <td>-7.7%</td>\n",
       "      <td>66</td>\n",
       "      <td>Hidden Figures</td>\n",
       "      <td>-</td>\n",
       "      <td>-</td>\n",
       "      <td>-</td>\n",
       "      <td>2</td>\n",
       "      <td>True</td>\n",
       "    </tr>\n",
       "    <tr>\n",
       "      <th>62</th>\n",
       "      <td>Jan 6-8</td>\n",
       "      <td>$120,491,633</td>\n",
       "      <td>-27.6%</td>\n",
       "      <td>$137,405,045</td>\n",
       "      <td>-26.4%</td>\n",
       "      <td>88</td>\n",
       "      <td>Hidden Figures</td>\n",
       "      <td>-</td>\n",
       "      <td>-</td>\n",
       "      <td>-</td>\n",
       "      <td>1</td>\n",
       "      <td>False</td>\n",
       "    </tr>\n",
       "  </tbody>\n",
       "</table>\n",
       "<p>63 rows × 12 columns</p>\n",
       "</div>"
      ],
      "text/plain": [
       "                                     Dates  Top 10 Gross    %± LW  \\\n",
       "0   Dec 29-Jan 1, 2018New Year's long wknd  $226,045,913    +2.6%   \n",
       "1                                Dec 29-31  $173,344,651    +5.5%   \n",
       "2             Dec 22-25Christmas long wknd  $236,559,567    -5.6%   \n",
       "3                                Dec 22-24  $164,303,262   -38.5%   \n",
       "4                                Dec 15-17  $267,186,366  +278.2%   \n",
       "..                                     ...           ...      ...   \n",
       "58                               Jan 27-29  $111,650,133    -7.1%   \n",
       "59                               Jan 20-22  $120,214,041      +1%   \n",
       "60                               Jan 13-15  $119,057,524    -1.2%   \n",
       "61                       Jan 13-16MLK wknd  $147,714,852   -15.7%   \n",
       "62                                 Jan 6-8  $120,491,633   -27.6%   \n",
       "\n",
       "   Overall Gross  %± LW.1  Releases                               #1 Release  \\\n",
       "0   $253,441,683    +2.7%        67  Star Wars: Episode VIII - The Last Jedi   \n",
       "1   $194,096,602    +8.9%        74  Star Wars: Episode VIII - The Last Jedi   \n",
       "2   $259,567,981    -5.5%        62  Star Wars: Episode VIII - The Last Jedi   \n",
       "3   $178,168,406   -35.9%        72  Star Wars: Episode VIII - The Last Jedi   \n",
       "4   $278,067,957  +227.6%        86  Star Wars: Episode VIII - The Last Jedi   \n",
       "..           ...      ...       ...                                      ...   \n",
       "58  $141,980,332    -2.1%        85                                    Split   \n",
       "59  $145,007,859    -2.9%        89                                    Split   \n",
       "60  $149,365,311    +8.7%        80                           Hidden Figures   \n",
       "61  $185,210,740    -7.7%        66                           Hidden Figures   \n",
       "62  $137,405,045   -26.4%        88                           Hidden Figures   \n",
       "\n",
       "   Genre Budget Running Time  Week  Long Weekend  \n",
       "0      -      -            -    52          True  \n",
       "1      -      -            -    52         False  \n",
       "2      -      -            -    51          True  \n",
       "3      -      -            -    51         False  \n",
       "4      -      -            -    50         False  \n",
       "..   ...    ...          ...   ...           ...  \n",
       "58     -      -            -     4         False  \n",
       "59     -      -            -     3         False  \n",
       "60     -      -            -     2         False  \n",
       "61     -      -            -     2          True  \n",
       "62     -      -            -     1         False  \n",
       "\n",
       "[63 rows x 12 columns]"
      ]
     },
     "execution_count": 5,
     "metadata": {},
     "output_type": "execute_result"
    }
   ],
   "source": [
    "df[0]"
   ]
  },
  {
   "cell_type": "code",
   "execution_count": 6,
   "metadata": {
    "id": "owwSCuZYU-sT"
   },
   "outputs": [],
   "source": [
    "df2017 = df[0]"
   ]
  },
  {
   "cell_type": "code",
   "execution_count": 22,
   "metadata": {
    "id": "LnK9JHQ9VFkq"
   },
   "outputs": [
    {
     "data": {
      "text/html": [
       "<div>\n",
       "<style scoped>\n",
       "    .dataframe tbody tr th:only-of-type {\n",
       "        vertical-align: middle;\n",
       "    }\n",
       "\n",
       "    .dataframe tbody tr th {\n",
       "        vertical-align: top;\n",
       "    }\n",
       "\n",
       "    .dataframe thead th {\n",
       "        text-align: right;\n",
       "    }\n",
       "</style>\n",
       "<table border=\"1\" class=\"dataframe\">\n",
       "  <thead>\n",
       "    <tr style=\"text-align: right;\">\n",
       "      <th></th>\n",
       "      <th>Dates</th>\n",
       "      <th>Top 10 Gross</th>\n",
       "      <th>%± LW</th>\n",
       "      <th>Overall Gross</th>\n",
       "      <th>%± LW.1</th>\n",
       "      <th>Releases</th>\n",
       "      <th>#1 Release</th>\n",
       "      <th>Week</th>\n",
       "      <th>Long Weekend</th>\n",
       "    </tr>\n",
       "  </thead>\n",
       "  <tbody>\n",
       "    <tr>\n",
       "      <th>0</th>\n",
       "      <td>Dec 29-Jan 1, 2018New Year's long wknd</td>\n",
       "      <td>226045913</td>\n",
       "      <td>+2.6%</td>\n",
       "      <td>$253,441,683</td>\n",
       "      <td>+2.7%</td>\n",
       "      <td>67</td>\n",
       "      <td>Star Wars: Episode VIII - The Last Jedi</td>\n",
       "      <td>52</td>\n",
       "      <td>True</td>\n",
       "    </tr>\n",
       "    <tr>\n",
       "      <th>1</th>\n",
       "      <td>Dec 29-31</td>\n",
       "      <td>173344651</td>\n",
       "      <td>+5.5%</td>\n",
       "      <td>$194,096,602</td>\n",
       "      <td>+8.9%</td>\n",
       "      <td>74</td>\n",
       "      <td>Star Wars: Episode VIII - The Last Jedi</td>\n",
       "      <td>52</td>\n",
       "      <td>False</td>\n",
       "    </tr>\n",
       "    <tr>\n",
       "      <th>2</th>\n",
       "      <td>Dec 22-25Christmas long wknd</td>\n",
       "      <td>236559567</td>\n",
       "      <td>-5.6%</td>\n",
       "      <td>$259,567,981</td>\n",
       "      <td>-5.5%</td>\n",
       "      <td>62</td>\n",
       "      <td>Star Wars: Episode VIII - The Last Jedi</td>\n",
       "      <td>51</td>\n",
       "      <td>True</td>\n",
       "    </tr>\n",
       "    <tr>\n",
       "      <th>3</th>\n",
       "      <td>Dec 22-24</td>\n",
       "      <td>164303262</td>\n",
       "      <td>-38.5%</td>\n",
       "      <td>$178,168,406</td>\n",
       "      <td>-35.9%</td>\n",
       "      <td>72</td>\n",
       "      <td>Star Wars: Episode VIII - The Last Jedi</td>\n",
       "      <td>51</td>\n",
       "      <td>False</td>\n",
       "    </tr>\n",
       "    <tr>\n",
       "      <th>4</th>\n",
       "      <td>Dec 15-17</td>\n",
       "      <td>267186366</td>\n",
       "      <td>+278.2%</td>\n",
       "      <td>$278,067,957</td>\n",
       "      <td>+227.6%</td>\n",
       "      <td>86</td>\n",
       "      <td>Star Wars: Episode VIII - The Last Jedi</td>\n",
       "      <td>50</td>\n",
       "      <td>False</td>\n",
       "    </tr>\n",
       "    <tr>\n",
       "      <th>...</th>\n",
       "      <td>...</td>\n",
       "      <td>...</td>\n",
       "      <td>...</td>\n",
       "      <td>...</td>\n",
       "      <td>...</td>\n",
       "      <td>...</td>\n",
       "      <td>...</td>\n",
       "      <td>...</td>\n",
       "      <td>...</td>\n",
       "    </tr>\n",
       "    <tr>\n",
       "      <th>58</th>\n",
       "      <td>Jan 27-29</td>\n",
       "      <td>111650133</td>\n",
       "      <td>-7.1%</td>\n",
       "      <td>$141,980,332</td>\n",
       "      <td>-2.1%</td>\n",
       "      <td>85</td>\n",
       "      <td>Split</td>\n",
       "      <td>4</td>\n",
       "      <td>False</td>\n",
       "    </tr>\n",
       "    <tr>\n",
       "      <th>59</th>\n",
       "      <td>Jan 20-22</td>\n",
       "      <td>120214041</td>\n",
       "      <td>+1%</td>\n",
       "      <td>$145,007,859</td>\n",
       "      <td>-2.9%</td>\n",
       "      <td>89</td>\n",
       "      <td>Split</td>\n",
       "      <td>3</td>\n",
       "      <td>False</td>\n",
       "    </tr>\n",
       "    <tr>\n",
       "      <th>60</th>\n",
       "      <td>Jan 13-15</td>\n",
       "      <td>119057524</td>\n",
       "      <td>-1.2%</td>\n",
       "      <td>$149,365,311</td>\n",
       "      <td>+8.7%</td>\n",
       "      <td>80</td>\n",
       "      <td>Hidden Figures</td>\n",
       "      <td>2</td>\n",
       "      <td>False</td>\n",
       "    </tr>\n",
       "    <tr>\n",
       "      <th>61</th>\n",
       "      <td>Jan 13-16MLK wknd</td>\n",
       "      <td>147714852</td>\n",
       "      <td>-15.7%</td>\n",
       "      <td>$185,210,740</td>\n",
       "      <td>-7.7%</td>\n",
       "      <td>66</td>\n",
       "      <td>Hidden Figures</td>\n",
       "      <td>2</td>\n",
       "      <td>True</td>\n",
       "    </tr>\n",
       "    <tr>\n",
       "      <th>62</th>\n",
       "      <td>Jan 6-8</td>\n",
       "      <td>120491633</td>\n",
       "      <td>-27.6%</td>\n",
       "      <td>$137,405,045</td>\n",
       "      <td>-26.4%</td>\n",
       "      <td>88</td>\n",
       "      <td>Hidden Figures</td>\n",
       "      <td>1</td>\n",
       "      <td>False</td>\n",
       "    </tr>\n",
       "  </tbody>\n",
       "</table>\n",
       "<p>63 rows × 9 columns</p>\n",
       "</div>"
      ],
      "text/plain": [
       "                                     Dates  Top 10 Gross    %± LW  \\\n",
       "0   Dec 29-Jan 1, 2018New Year's long wknd     226045913    +2.6%   \n",
       "1                                Dec 29-31     173344651    +5.5%   \n",
       "2             Dec 22-25Christmas long wknd     236559567    -5.6%   \n",
       "3                                Dec 22-24     164303262   -38.5%   \n",
       "4                                Dec 15-17     267186366  +278.2%   \n",
       "..                                     ...           ...      ...   \n",
       "58                               Jan 27-29     111650133    -7.1%   \n",
       "59                               Jan 20-22     120214041      +1%   \n",
       "60                               Jan 13-15     119057524    -1.2%   \n",
       "61                       Jan 13-16MLK wknd     147714852   -15.7%   \n",
       "62                                 Jan 6-8     120491633   -27.6%   \n",
       "\n",
       "   Overall Gross  %± LW.1  Releases                               #1 Release  \\\n",
       "0   $253,441,683    +2.7%        67  Star Wars: Episode VIII - The Last Jedi   \n",
       "1   $194,096,602    +8.9%        74  Star Wars: Episode VIII - The Last Jedi   \n",
       "2   $259,567,981    -5.5%        62  Star Wars: Episode VIII - The Last Jedi   \n",
       "3   $178,168,406   -35.9%        72  Star Wars: Episode VIII - The Last Jedi   \n",
       "4   $278,067,957  +227.6%        86  Star Wars: Episode VIII - The Last Jedi   \n",
       "..           ...      ...       ...                                      ...   \n",
       "58  $141,980,332    -2.1%        85                                    Split   \n",
       "59  $145,007,859    -2.9%        89                                    Split   \n",
       "60  $149,365,311    +8.7%        80                           Hidden Figures   \n",
       "61  $185,210,740    -7.7%        66                           Hidden Figures   \n",
       "62  $137,405,045   -26.4%        88                           Hidden Figures   \n",
       "\n",
       "    Week  Long Weekend  \n",
       "0     52          True  \n",
       "1     52         False  \n",
       "2     51          True  \n",
       "3     51         False  \n",
       "4     50         False  \n",
       "..   ...           ...  \n",
       "58     4         False  \n",
       "59     3         False  \n",
       "60     2         False  \n",
       "61     2          True  \n",
       "62     1         False  \n",
       "\n",
       "[63 rows x 9 columns]"
      ]
     },
     "execution_count": 22,
     "metadata": {},
     "output_type": "execute_result"
    }
   ],
   "source": [
    "df2017"
   ]
  },
  {
   "cell_type": "markdown",
   "metadata": {
    "id": "laW205ykvn0S"
   },
   "source": [
    "## Data cleaning"
   ]
  },
  {
   "cell_type": "markdown",
   "metadata": {
    "id": "b-cH41xd54Tw"
   },
   "source": [
    "We can see that the table header is presented multiple times in several rows."
   ]
  },
  {
   "cell_type": "code",
   "execution_count": 9,
   "metadata": {},
   "outputs": [],
   "source": [
    "df2017.drop('Genre', inplace=True, axis=1)"
   ]
  },
  {
   "cell_type": "code",
   "execution_count": 10,
   "metadata": {},
   "outputs": [],
   "source": [
    "df2017.drop('Budget', inplace=True, axis=1)"
   ]
  },
  {
   "cell_type": "code",
   "execution_count": 11,
   "metadata": {},
   "outputs": [],
   "source": [
    "df2017.drop('Running Time', inplace=True, axis=1)"
   ]
  },
  {
   "cell_type": "code",
   "execution_count": 12,
   "metadata": {},
   "outputs": [
    {
     "name": "stderr",
     "output_type": "stream",
     "text": [
      "C:\\Users\\badar\\AppData\\Local\\Temp\\ipykernel_14032\\4042035324.py:1: FutureWarning: The default value of regex will change from True to False in a future version.\n",
      "  df2017['Top 10 Gross'] = df2017['Top 10 Gross'].str.replace('\\W', '')\n"
     ]
    }
   ],
   "source": [
    "df2017['Top 10 Gross'] = df2017['Top 10 Gross'].str.replace('\\W', '')"
   ]
  },
  {
   "cell_type": "code",
   "execution_count": 16,
   "metadata": {},
   "outputs": [
    {
     "name": "stdout",
     "output_type": "stream",
     "text": [
      "<class 'pandas.core.frame.DataFrame'>\n",
      "RangeIndex: 63 entries, 0 to 62\n",
      "Data columns (total 9 columns):\n",
      " #   Column         Non-Null Count  Dtype \n",
      "---  ------         --------------  ----- \n",
      " 0   Dates          63 non-null     object\n",
      " 1   Top 10 Gross   63 non-null     int64 \n",
      " 2   %± LW          63 non-null     object\n",
      " 3   Overall Gross  63 non-null     object\n",
      " 4   %± LW.1        63 non-null     object\n",
      " 5   Releases       63 non-null     int64 \n",
      " 6   #1 Release     63 non-null     object\n",
      " 7   Week           63 non-null     int64 \n",
      " 8   Long Weekend   63 non-null     bool  \n",
      "dtypes: bool(1), int64(3), object(5)\n",
      "memory usage: 4.1+ KB\n"
     ]
    }
   ],
   "source": [
    "df2017.info()"
   ]
  },
  {
   "cell_type": "code",
   "execution_count": 15,
   "metadata": {},
   "outputs": [],
   "source": [
    "df2017['Top 10 Gross'] = df2017['Top 10 Gross'].astype('int64')"
   ]
  },
  {
   "cell_type": "markdown",
   "metadata": {
    "id": "o4x9M9ArXl7l"
   },
   "source": [
    "## Quick Exploratory Data Analysis"
   ]
  },
  {
   "cell_type": "code",
   "execution_count": 19,
   "metadata": {
    "id": "Vw0kwGHNgSMS"
   },
   "outputs": [],
   "source": [
    "import matplotlib.pyplot as plt"
   ]
  },
  {
   "cell_type": "markdown",
   "metadata": {
    "id": "Vw77h9jPEd2z"
   },
   "source": [
    "Making the Line Plot of # of Releases during 2017"
   ]
  },
  {
   "cell_type": "code",
   "execution_count": 21,
   "metadata": {
    "colab": {
     "base_uri": "https://localhost:8080/",
     "height": 296
    },
    "id": "NqU0tBcuh-5V",
    "outputId": "efc20768-af8d-40d1-a39c-b821d7c23d8f"
   },
   "outputs": [
    {
     "data": {
      "image/png": "[encoded data removed]",
      "text/plain": [
       "<Figure size 432x288 with 1 Axes>"
      ]
     },
     "metadata": {
      "needs_background": "light"
     },
     "output_type": "display_data"
    }
   ],
   "source": [
    "# Plotted 2015 data Top Grosses throught year\n",
    "\n",
    "plt.plot(df2017['Week'],df2017['Top 10 Gross'])\n",
    "plt.show()"
   ]
  },
  {
   "cell_type": "code",
   "execution_count": 23,
   "metadata": {},
   "outputs": [],
   "source": [
    "\n",
    "# saving the dataframe\n",
    "df2017.to_csv('data2017.csv')"
   ]
  }
 ],
 "metadata": {
  "colab": {
   "collapsed_sections": [],
   "provenance": []
  },
  "kernelspec": {
   "display_name": "Python 3 (ipykernel)",
   "language": "python",
   "name": "python3"
  },
  "language_info": {
   "codemirror_mode": {
    "name": "ipython",
    "version": 3
   },
   "file_extension": ".py",
   "mimetype": "text/x-python",
   "name": "python",
   "nbconvert_exporter": "python",
   "pygments_lexer": "ipython3",
   "version": "3.9.6"
  }
 },
 "nbformat": 4,
 "nbformat_minor": 1
}
